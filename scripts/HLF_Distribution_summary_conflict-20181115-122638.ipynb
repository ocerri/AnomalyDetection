{
 "cells": [
  {
   "cell_type": "code",
   "execution_count": 1,
   "metadata": {},
   "outputs": [
    {
     "name": "stdout",
     "output_type": "stream",
     "text": [
      "Welcome to JupyROOT 6.10/08\n"
     ]
    }
   ],
   "source": [
    "from glob import glob\n",
    "import os, re\n",
    "\n",
    "import matplotlib.pyplot as plt\n",
    "import numpy as np\n",
    "import ROOT as rt\n",
    "import root_numpy as rtnp\n",
    "from histo_utilities import create_TH1D\n",
    "\n",
    "from cebefo_style import cebefo_style\n",
    "cebefo_style()"
   ]
  },
  {
   "cell_type": "code",
   "execution_count": 2,
   "metadata": {},
   "outputs": [],
   "source": [
    "hlf_features = ['HT', 'METp', 'METo', 'MT', 'nJets', \n",
    "                'bJets', 'allJetMass', 'LepPt', 'LepEta', \n",
    "                'LepIsoCh', 'LepIsoGamma', 'LepIsoNeu', 'LepCharge', \n",
    "                'LepIsEle', 'nMu', 'allMuMass', 'allMuPt', 'nEle', \n",
    "                'allEleMass', 'allElePt', 'nChHad', 'nNeuHad', 'nPhoton']\n",
    "\n",
    "active_hlf_features = ['HT', 'allJetMass',\n",
    "                       'allMuPt', 'allMuMass',\n",
    "                       'allElePt','allEleMass',\n",
    "                       'LepPt', 'LepIsoCh', 'LepIsoGamma', 'LepIsoNeu',\n",
    "                       \n",
    "                       'METp', 'METo',\n",
    "                       \n",
    "                       'MT',\n",
    "                       \n",
    "                       'nMu', 'nJets', 'bJets', 'nEle', \n",
    "                       \n",
    "                       'LepCharge','LepIsEle', \n",
    "                       \n",
    "                       'nChHad', 'nNeuHad']\n",
    "\n",
    "sel = []\n",
    "for a in active_hlf_features:\n",
    "    for i,f in enumerate(hlf_features):\n",
    "        if a == f:\n",
    "            sel.append(i)\n",
    "\n",
    "x_axis_label = [ 'S_{T} [GeV]', 'Jets Mass [GeV]',\n",
    "                'Muons P_{T} [GeV]', 'Muons Mass [GeV]',\n",
    "                'Electrons P_{T} [GeV]', 'Electrons Mass [GeV]',\n",
    "                'Lep P_{T} [GeV]', 'ChPFIso', 'GammaPFIso', 'NeuPFIso',\n",
    "                \n",
    "#                 'METp [GeV]', 'METo [GeV]',\n",
    "                'p_{T #parallel}^{miss}', 'p_{T #perp}^{miss}',\n",
    "                \n",
    "                'M_{T} [GeV]',\n",
    "                \n",
    "                'Muons number', 'Jets number', 'b-tagged jets number', 'Electrons number',\n",
    "                \n",
    "                'Lep Charge [e]','IsEle',\n",
    "                \n",
    "                'Charged Had number', 'Neutral Had number']\n",
    "\n",
    "sel = []\n",
    "for a in active_hlf_features:\n",
    "    for i,f in enumerate(hlf_features):\n",
    "        if a == f:\n",
    "            sel.append(i)"
   ]
  },
  {
   "cell_type": "code",
   "execution_count": 3,
   "metadata": {},
   "outputs": [
    {
     "data": {
      "text/plain": [
       "21"
      ]
     },
     "execution_count": 3,
     "metadata": {},
     "output_type": "execute_result"
    }
   ],
   "source": [
    "len(active_hlf_features)"
   ]
  },
  {
   "cell_type": "code",
   "execution_count": 4,
   "metadata": {},
   "outputs": [
    {
     "name": "stdout",
     "output_type": "stream",
     "text": [
      "Ato4l  --->  ../data/HLF_ONLY/Ato4l_sample.npy\n",
      "hChToTauNu  --->  ../data/HLF_ONLY/hChToTauNu_sample.npy\n",
      "hToTauTau  --->  ../data/HLF_ONLY/hToTauTau_sample.npy\n",
      "leptoquark  --->  ../data/HLF_ONLY/leptoquark_sample.npy\n",
      "qcd  --->  ../data/HLF_ONLY/qcd_sample.npy\n",
      "ttbar  --->  ../data/HLF_ONLY/ttbar_sample.npy\n",
      "Wlnu  --->  ../data/HLF_ONLY/Wlnu_sample.npy\n",
      "Wprime  --->  ../data/HLF_ONLY/Wprime_sample.npy\n",
      "Zll  --->  ../data/HLF_ONLY/Zll_sample.npy\n",
      "Zprime  --->  ../data/HLF_ONLY/Zprime_sample.npy\n"
     ]
    }
   ],
   "source": [
    "folder = '../data/HLF_ONLY/'\n",
    "datasets = glob(folder+'*.npy')\n",
    "\n",
    "dataset_path = {}\n",
    "for path in datasets:\n",
    "    n = os.path.basename(path)\n",
    "    aux = re.search(r'[a-zA-Z0-9]+_', n)\n",
    "    name = aux.group(0)[:-1]\n",
    "    print name, ' ---> ', path\n",
    "    dataset_path[name] = path"
   ]
  },
  {
   "cell_type": "code",
   "execution_count": 6,
   "metadata": {},
   "outputs": [],
   "source": [
    "DS_name = {'Ato4l':'a #rightarrow 4l', \n",
    "           'hToTauTau':'h #rightarrow #tau#tau', \n",
    "           'hChToTauNu':'h^{+} #rightarrow #tau#nu',\n",
    "           'Wprime':'W^{\\'}',\n",
    "           'Zprime':'Z^{\\'}',\n",
    "           'leptoquark':'LQ'}"
   ]
  },
  {
   "cell_type": "code",
   "execution_count": 7,
   "metadata": {
    "scrolled": false
   },
   "outputs": [
    {
     "ename": "TypeError",
     "evalue": "list indices must be integers, not str",
     "output_type": "error",
     "traceback": [
      "\u001b[0;31m\u001b[0m",
      "\u001b[0;31mTypeError\u001b[0mTraceback (most recent call last)",
      "\u001b[0;32m<ipython-input-7-693ec7532c4b>\u001b[0m in \u001b[0;36m<module>\u001b[0;34m()\u001b[0m\n\u001b[1;32m     95\u001b[0m     \u001b[0ml\u001b[0m\u001b[0;34m.\u001b[0m\u001b[0mSetLineWidth\u001b[0m\u001b[0;34m(\u001b[0m\u001b[0;36m5\u001b[0m\u001b[0;34m)\u001b[0m\u001b[0;34m\u001b[0m\u001b[0m\n\u001b[1;32m     96\u001b[0m     \u001b[0ml\u001b[0m\u001b[0;34m.\u001b[0m\u001b[0mSetLineColor\u001b[0m\u001b[0;34m(\u001b[0m\u001b[0mcolors\u001b[0m\u001b[0;34m[\u001b[0m\u001b[0mj\u001b[0m\u001b[0;34m]\u001b[0m\u001b[0;34m)\u001b[0m\u001b[0;34m\u001b[0m\u001b[0m\n\u001b[0;32m---> 97\u001b[0;31m     \u001b[0mleg\u001b[0m\u001b[0;34m.\u001b[0m\u001b[0mAddEntry\u001b[0m\u001b[0;34m(\u001b[0m\u001b[0ml\u001b[0m\u001b[0;34m,\u001b[0m \u001b[0mDS_name\u001b[0m\u001b[0;34m[\u001b[0m\u001b[0mDS\u001b[0m\u001b[0;34m]\u001b[0m\u001b[0;34m,\u001b[0m \u001b[0;34m'l'\u001b[0m\u001b[0;34m)\u001b[0m\u001b[0;34m\u001b[0m\u001b[0m\n\u001b[0m\u001b[1;32m     98\u001b[0m     \u001b[0mdnd\u001b[0m\u001b[0;34m.\u001b[0m\u001b[0mappend\u001b[0m\u001b[0;34m(\u001b[0m\u001b[0ml\u001b[0m\u001b[0;34m)\u001b[0m\u001b[0;34m\u001b[0m\u001b[0m\n\u001b[1;32m     99\u001b[0m \u001b[0;34m\u001b[0m\u001b[0m\n",
      "\u001b[0;31mTypeError\u001b[0m: list indices must be integers, not str"
     ]
    }
   ],
   "source": [
    "dnd = []\n",
    "\n",
    "c = rt.TCanvas('c_out', 'c_out', 3200, 3600)\n",
    "c.Divide(4,6, 0., 0.005)\n",
    "\n",
    "colors = [1,2,4,8,46, 30, 40]\n",
    "\n",
    "binning_list = []\n",
    "\n",
    "max_prob_hlf = np.zeros(len(active_hlf_features))\n",
    "\n",
    "leg = rt.TLegend(0.1, 0.1, 1, 1)\n",
    "# leg.SetNColumns(2)\n",
    "leg.SetLineWidth(0)\n",
    "\n",
    "# for DS in dataset_path.keys():\n",
    "# DS_name = ['W', 'QCD', 'Z', 't#bar{t}']\n",
    "# for j, DS in enumerate(['Wlnu', 'qcd', 'Zll', 'ttbar']):\n",
    "\n",
    "DS_name = ['a #rightarrow 4l', \"W'\", \"Z'\", 'LQ']\n",
    "for j, DS in enumerate(['Ato4l', 'Wprime', 'Zprime', 'leptoquark']):    \n",
    "\n",
    "    arr = np.load(dataset_path[DS])[:, sel]\n",
    "    for i, nhlf in enumerate(active_hlf_features):\n",
    "        a = arr[:, i]\n",
    "        \n",
    "        tag = '_{}_{}'.format(DS, nhlf)\n",
    "        \n",
    "        if j==0:\n",
    "            if nhlf == 'allJetMass':\n",
    "                binning = [90, 0, 900]\n",
    "            elif nhlf in ['nChHad', 'nNeuHad']:\n",
    "                up = int(np.max(a) - int(np.max(a))%5 -1)\n",
    "                binning = [(up+1)/5, -0.5, up+0.5]\n",
    "            elif nhlf in ['nMu', 'nEle', 'nJets', 'bJets']:\n",
    "                length = np.max(a) - np.min(a) + 1\n",
    "                binning = [int(length), np.min(a)-0.5, np.max(a)+0.5]\n",
    "            elif nhlf in ['LepIsEle', 'LepCharge']:\n",
    "                binning = [2, np.min(a)-0.5, np.max(a)+0.5]\n",
    "            elif nhlf in ['allEleMass', 'allMuMass']:\n",
    "                binning = [100, -0.5, 500.]  \n",
    "            elif nhlf == 'LepPt':\n",
    "                bin_w = 10*(np.percentile(a,75) - np.percentile(a,25))/(len(a))**(1./3.)\n",
    "                if bin_w == 0:\n",
    "                    bin_w = np.std(a)/5\n",
    "                binning = [None, 20, np.percentile(a, 99.)]\n",
    "                binning[0] = int((binning[2] - binning[1])/bin_w) + 2\n",
    "            else:\n",
    "                bin_w = 10*(np.percentile(a,75) - np.percentile(a,25))/(len(a))**(1./3.)\n",
    "                if bin_w == 0:\n",
    "                    bin_w = np.std(a)/5\n",
    "                binning = [None, np.percentile(a, .1), np.percentile(a, 99.5)]\n",
    "                binning[0] = int((binning[2] - binning[1])/bin_w) + 2\n",
    "            binning_list.append(binning)\n",
    "\n",
    "        h = create_TH1D(a, 'h'+tag, '', binning=binning_list[i])\n",
    "        h.SetLineWidth(4)\n",
    "        h.SetXTitle(x_axis_label[i])\n",
    "#         h.SetYTitle('Probability')\n",
    "        h.GetXaxis().SetTitleOffset(1.02)\n",
    "    \n",
    "        h.GetXaxis().SetTitleSize(0.09)\n",
    "        h.GetXaxis().SetLabelSize(0.09)\n",
    "        h.GetYaxis().SetLabelSize(0.09)\n",
    "        \n",
    "        h.GetYaxis().SetNdivisions(4,0,0)\n",
    "        h.GetXaxis().SetNdivisions(4,0,0)\n",
    "    \n",
    "        h.Scale(1./h.GetEntries())\n",
    "        max_prob_hlf[i] = max(max_prob_hlf[i], h.GetMaximum())\n",
    "        \n",
    "        h.SetStats(0)\n",
    "        h.SetLineColor(colors[j])\n",
    "\n",
    "        opt = ''\n",
    "        if j != 0:\n",
    "            opt += 'SAME'\n",
    "        pad = c.cd(i+1)\n",
    "        h.Sumw2(0)\n",
    "        h.Draw(''+opt)\n",
    "\n",
    "        if j==0:\n",
    "            pad.SetGrid(0,0)\n",
    "            pad.SetTopMargin(0.05)\n",
    "            pad.SetBottomMargin(0.24)\n",
    "            pad.SetRightMargin(0.05)            \n",
    "            pad.SetLeftMargin(0.12)            \n",
    "            if nhlf.startswith('LepIso') or nhlf.startswith('all') or nhlf=='HT':\n",
    "                pad.SetLogy()\n",
    "            else:\n",
    "                h.GetYaxis().SetRangeUser(0, h.GetMaximum()*1.1)\n",
    "            \n",
    "        dnd.append(h)\n",
    "    l = rt.TLine()\n",
    "    l.SetLineWidth(5)\n",
    "    l.SetLineColor(colors[j])\n",
    "    leg.AddEntry(l, DS_name[DS], 'l')\n",
    "    dnd.append(l)\n",
    "        \n",
    "for i in range(len(active_hlf_features)):\n",
    "    dnd[i].GetYaxis().SetRangeUser(1e-6+dnd[i].GetMinimum(), 1.1*max_prob_hlf[i])\n",
    "    \n",
    "c.cd(23)\n",
    "# h = rt.TH1F('hvoid','hvoid',1,0,1)\n",
    "# h.Draw('SAME')\n",
    "leg.Draw()\n",
    "\n",
    "c.Update()\n",
    "c.Draw()\n",
    "c.SaveAs('../fig/paper_fig/BSM_HLF_Summary.root')\n",
    "c.SaveAs('../fig/paper_fig/BSM_HLF_Summary.png')\n",
    "#         c.SaveAs('../../www/DatasetCheck/{}_{}.png'.format(nhlf, DS))\n",
    "dnd.append(c)"
   ]
  },
  {
   "cell_type": "code",
   "execution_count": null,
   "metadata": {},
   "outputs": [],
   "source": []
  }
 ],
 "metadata": {
  "kernelspec": {
   "display_name": "Python 2",
   "language": "python",
   "name": "python2"
  },
  "language_info": {
   "codemirror_mode": {
    "name": "ipython",
    "version": 2
   },
   "file_extension": ".py",
   "mimetype": "text/x-python",
   "name": "python",
   "nbconvert_exporter": "python",
   "pygments_lexer": "ipython2",
   "version": "2.7.14"
  }
 },
 "nbformat": 4,
 "nbformat_minor": 2
}
