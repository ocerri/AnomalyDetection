{
 "cells": [
  {
   "cell_type": "code",
   "execution_count": 1,
   "metadata": {},
   "outputs": [],
   "source": [
    "import h5py\n",
    "from glob import glob\n",
    "import numpy as np\n",
    "import os"
   ]
  },
  {
   "cell_type": "code",
   "execution_count": 1,
   "metadata": {
    "collapsed": true
   },
   "outputs": [],
   "source": [
    "inpath = '/eos/cms/store/cmst3/group/dehep/TOPCLASS/REDUCED_IsoLep/'\n",
    "\n",
    "outpath = '/afs/cern.ch/user/o/ocerri/cernbox/AnomalyDetection/data/'\n",
    "\n",
    "SM_labels = ['qcd_lepFilter_13TeV', 'ttbar_lepFilter_13TeV', 'wjets_lepFilter_13TeV']\n",
    "BSM_labels = ['AtoChHW', 'AtoChHW_HIGHMASS']\n",
    "\n",
    "N_evnt_train = 70000\n",
    "hlf_train = np.zeros((0,14))\n",
    "label_train = np.zeros((0,))\n",
    "\n",
    "val_split = 0.7\n",
    "\n",
    "hlf_val = np.zeros((0,14))\n",
    "label_val = np.zeros((0,))\n",
    "\n",
    "for k, lab in enumerate(BSM_labels):\n",
    "    file_list = glob(inpath + lab +'/*.h5')\n",
    "    print lab\n",
    "    print len(file_list)\n",
    "    errors = 0\n",
    "    for i, fname in enumerate(file_list):\n",
    "        if i%100 == 0:\n",
    "            print 'At file', i, 'size:', hlf_train.shape[0]\n",
    "        try:\n",
    "            f = h5py.File(fname, 'r')\n",
    "            hlf = np.array(f['HLF'])[:, 1:]\n",
    "            i_sep = int(hlf.shape[0]*val_split)\n",
    "\n",
    "            hlf_train = np.concatenate((hlf_train, hlf[:i_sep]))\n",
    "            hlf_val = np.concatenate((hlf_val, hlf[i_sep:]))\n",
    "        except:\n",
    "            errors += 1\n",
    "            print '[{}]'.format(errors), fname, 'failed'\n",
    "\n",
    "        if hlf_train.shape[0]>(k+1)*N_evnt_train:\n",
    "            break\n",
    "\n",
    "    label_train = np.concatenate((label_train, k*np.ones(hlf_train.shape[0]-label_train.shape[0])))\n",
    "    label_val = np.concatenate((label_val, k*np.ones(hlf_val.shape[0]-label_val.shape[0])))\n",
    "\n",
    "    print hlf_train.shape\n",
    "    print label_train.shape\n",
    "\n",
    "outname = outpath+'BSM_train.h5'\n",
    "if os.path.isfile(outname):\n",
    "    os.remove(outname)\n",
    "h5f = h5py.File(outname, 'w')\n",
    "h5f.create_dataset('HLF', data=hlf_train)\n",
    "h5f.create_dataset('labels', data=label_train)\n",
    "h5f.close()\n",
    "\n",
    "outname = outpath+'BSM_val.h5'\n",
    "if os.path.isfile(outname):\n",
    "    os.remove(outname)\n",
    "h5f = h5py.File(outname, 'w')\n",
    "h5f.create_dataset('HLF', data=hlf_val)\n",
    "h5f.create_dataset('labels', data=label_val)\n",
    "h5f.close()"
   ]
  },
  {
   "cell_type": "code",
   "execution_count": null,
   "metadata": {
    "collapsed": true
   },
   "outputs": [],
   "source": [
    "inpath = '/eos/cms/store/cmst3/group/dehep/TOPCLASS/REDUCED_IsoLep'\n",
    "\n",
    "outpath = '/afs/cern.ch/user/o/ocerri/cernbox/AnomalyDetection/data'"
   ]
  }
 ],
 "metadata": {
  "kernelspec": {
   "display_name": "Python 2",
   "language": "python",
   "name": "python2"
  },
  "language_info": {
   "codemirror_mode": {
    "name": "ipython",
    "version": 2
   },
   "file_extension": ".py",
   "mimetype": "text/x-python",
   "name": "python",
   "nbconvert_exporter": "python",
   "pygments_lexer": "ipython2",
   "version": "2.7.13"
  }
 },
 "nbformat": 4,
 "nbformat_minor": 2
}
