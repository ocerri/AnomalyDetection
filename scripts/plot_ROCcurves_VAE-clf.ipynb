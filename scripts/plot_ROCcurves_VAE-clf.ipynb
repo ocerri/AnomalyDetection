{
 "cells": [
  {
   "cell_type": "code",
   "execution_count": 1,
   "metadata": {},
   "outputs": [],
   "source": [
    "import numpy as np\n",
    "import pickle\n",
    "\n",
    "import matplotlib.pyplot as plt\n",
    "import matplotlib\n",
    "%matplotlib inline\n",
    "matplotlib.rcParams.update({'font.size': 16})"
   ]
  },
  {
   "cell_type": "code",
   "execution_count": 6,
   "metadata": {},
   "outputs": [],
   "source": [
    "vVAE = 71\n",
    "vCLF = 4\n",
    "Eff_SM = 5.38e-06\n",
    "use_loss = 'NLL'"
   ]
  },
  {
   "cell_type": "code",
   "execution_count": 5,
   "metadata": {},
   "outputs": [],
   "source": [
    "# BSM_samples = ['Ato4l', 'Zprime', 'Wprime', 'leptoquark', 'hToTauTau', 'hChToTauNu']\n",
    "BSM_samples = ['Ato4l', 'leptoquark', 'hToTauTau', 'hChToTauNu']\n",
    "\n",
    "BSM_labels = {'Ato4l':r'$A\\to 4l$', \n",
    "              'leptoquark':r'$LQ$', \n",
    "              'hToTauTau':r'$h\\to \\tau\\tau$', \n",
    "              'hChToTauNu':r'$h^{+}\\to \\tau\\nu$'}\n",
    "\n",
    "VAE_loss = {'Tot':0, 'NLL':1, 'KL':2}"
   ]
  },
  {
   "cell_type": "code",
   "execution_count": 3,
   "metadata": {},
   "outputs": [],
   "source": [
    "style_CLF = '--'\n",
    "style_VAE = '-'\n",
    "\n",
    "BSM_colors = {'Ato4l':'r', 'leptoquark':'g', 'hToTauTau':'b', 'hChToTauNu':'k'}"
   ]
  },
  {
   "cell_type": "code",
   "execution_count": 7,
   "metadata": {},
   "outputs": [
    {
     "ename": "SyntaxError",
     "evalue": "invalid syntax (<ipython-input-7-5ced8cf6684f>, line 14)",
     "output_type": "error",
     "traceback": [
      "\u001b[0;36m  File \u001b[0;32m\"<ipython-input-7-5ced8cf6684f>\"\u001b[0;36m, line \u001b[0;32m14\u001b[0m\n\u001b[0;31m    f = open('../VAE/VAE_HLFONLY/VAE_all-in-one_v{v}_ROC{ll}_dict_{n}.pkl'.format(v=vVAE, ll=VAE_loss[use_loss] n=n), 'r')\u001b[0m\n\u001b[0m                                                                                                                ^\u001b[0m\n\u001b[0;31mSyntaxError\u001b[0m\u001b[0;31m:\u001b[0m invalid syntax\n"
     ]
    }
   ],
   "source": [
    "matplotlib.rcParams.update({'font.size': 24})\n",
    "f = plt.figure(figsize=(12,12))\n",
    "\n",
    "for n in BSM_samples:\n",
    "    f = open('../Classifier/Classifier_HLF_v{v}/ROC_dict_{n}.pkl'.format(v=vCLF, n=n), 'r')\n",
    "    dCLF = pickle.load(f)\n",
    "    f.close()\n",
    "    plt.plot(dCLF['eff_SM'], dCLF['eff_BSM'], \n",
    "             linestyle=style_CLF,\n",
    "             lw=2,\n",
    "             color=BSM_colors[n])\n",
    "#              label='Clf {} (area = {:0.2f})'.format(BSM_labels[n], dCLF['roc_auc']))\n",
    "    \n",
    "    f = open('../VAE/VAE_HLFONLY/VAE_all-in-one_v{v}_ROC{ll}_dict_{n}.pkl'.format(v=vVAE, ll=VAE_loss[use_loss], n=n), 'r')\n",
    "    dVAE = pickle.load(f)\n",
    "    f.close()\n",
    "    plt.plot(dVAE['eff_SM'], dVAE['eff_BSM'], \n",
    "             linestyle=style_VAE,\n",
    "             lw=2,\n",
    "             color=BSM_colors[n],\n",
    "             label='{} \\n AUC = {:0.2f} ({:0.2f})'.format(BSM_labels[n], dVAE['roc_auc'], dCLF['roc_auc']))\n",
    "\n",
    "\n",
    "\n",
    "plt.plot([0, 1], [0, 1], color='gray', lw=1, linestyle=':')\n",
    "plt.plot([Eff_SM, Eff_SM], [1e-6, 1.05], color='magenta', lw=2, linestyle=':', label='50 SM evts/day')\n",
    "plt.xlim([1e-6, 1.0])\n",
    "plt.ylim([1e-6, 1.05])\n",
    "plt.xlabel('SM efficiency')\n",
    "plt.ylabel('BSM efficiency')\n",
    "plt.title('')\n",
    "plt.legend(loc='lower right')\n",
    "plt.yscale('log')\n",
    "plt.xscale('log')\n",
    "plt.grid()\n",
    "\n",
    "plt.savefig('../fig/paper_fig/ROC_vCLF{}_vVAE{}-{}.png'.format(vCLF, vVAE, use_loss))"
   ]
  },
  {
   "cell_type": "code",
   "execution_count": null,
   "metadata": {},
   "outputs": [],
   "source": []
  }
 ],
 "metadata": {
  "kernelspec": {
   "display_name": "Python 2",
   "language": "python",
   "name": "python2"
  },
  "language_info": {
   "codemirror_mode": {
    "name": "ipython",
    "version": 2
   },
   "file_extension": ".py",
   "mimetype": "text/x-python",
   "name": "python",
   "nbconvert_exporter": "python",
   "pygments_lexer": "ipython2",
   "version": "2.7.14"
  }
 },
 "nbformat": 4,
 "nbformat_minor": 2
}
