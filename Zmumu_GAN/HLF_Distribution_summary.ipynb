{
 "cells": [
  {
   "cell_type": "code",
   "execution_count": 1,
   "metadata": {},
   "outputs": [
    {
     "name": "stdout",
     "output_type": "stream",
     "text": [
      "Welcome to JupyROOT 6.10/08\n"
     ]
    }
   ],
   "source": [
    "from glob import glob\n",
    "import os, re\n",
    "\n",
    "import matplotlib.pyplot as plt\n",
    "import numpy as np\n",
    "import ROOT as rt\n",
    "import root_numpy as rtnp\n",
    "from histo_utilities import create_TH1D\n",
    "\n",
    "from cebefo_style import cebefo_style\n",
    "cebefo_style()"
   ]
  },
  {
   "cell_type": "code",
   "execution_count": 2,
   "metadata": {},
   "outputs": [],
   "source": [
    "arr = np.load('../data/Zmumu_GAN/total_Zmumu_13TeV_PU20_v2.npy')"
   ]
  },
  {
   "cell_type": "code",
   "execution_count": 5,
   "metadata": {},
   "outputs": [],
   "source": [
    "tipi = [('genjet_pt1', '<f4'), ('genjet_pt2', '<f4'), ('genjet_pt3', '<f4'), ('genjet_pt4', '<f4'), ('genjet_pt5', '<f4'), ('genlep1_charge', '<f4'), ('genlep1_e', '<f4'), ('genlep1_iso', '<f4'), ('genlep1_px', '<f4'), ('genlep1_py', '<f4'), ('genlep1_pz', '<f4'), ('genlep2_charge', '<f4'), ('genlep2_e', '<f4'), ('genlep2_iso', '<f4'), ('genlep2_px', '<f4'), ('genlep2_pz', '<f4'), ('genmet', '<f4'), ('genmetphi', '<f4'), ('genmll', '<f4'), ('jet_pt1', '<f4'), ('jet_pt2', '<f4'), ('jet_pt3', '<f4'), ('jet_pt4', '<f4'), ('jet_pt5', '<f4'), ('lep1_charge', '<f4'), ('lep1_e', '<f4'), ('lep1_iso', '<f4'), ('lep1_px', '<f4'), ('lep1_py', '<f4'), ('lep1_pz', '<f4'), ('lep2_charge', '<f4'), ('lep2_e', '<f4'), ('lep2_iso', '<f4'), ('lep2_px', '<f4'), ('lep2_pz', '<f4'), ('met', '<f4'), ('metphi', '<f4'), ('mll', '<f4'), ('nvtxs', '<f4')]\n",
    "# arr = np.load('../data/Zmumu_GAN/total_Zmumu_13TeV_PU20_v2.npa')\n",
    "hlf_features = []\n",
    "\n",
    "# baredata = np.zeros((arr.shape[0], 0))\n",
    "# print baredata.shape\n",
    "\n",
    "for t in tipi:\n",
    "    hlf_features.append(t[0])\n",
    "    \n",
    "#     baredata = np.column_stack((baredata, arr[t[0]]))\n",
    "    \n",
    "# np.save('../data/Zmumu_GAN/total_Zmumu_13TeV_PU20_v2.npy', baredata)"
   ]
  },
  {
   "cell_type": "code",
   "execution_count": 6,
   "metadata": {},
   "outputs": [
    {
     "name": "stdout",
     "output_type": "stream",
     "text": [
      "lep2_px\n",
      "lep2_pz\n",
      "lep2_e\n"
     ]
    }
   ],
   "source": [
    "# Add lep2_py\n",
    "print hlf_features[-6]\n",
    "print hlf_features[-5]\n",
    "print hlf_features[-8]"
   ]
  },
  {
   "cell_type": "code",
   "execution_count": 20,
   "metadata": {},
   "outputs": [],
   "source": [
    "x = arr[:,-6]\n",
    "z = arr[:,-5]\n",
    "e = arr[:,-8]\n",
    "\n",
    "y = np.square(e) - np.square(x) - np.square(z)"
   ]
  },
  {
   "cell_type": "code",
   "execution_count": 22,
   "metadata": {},
   "outputs": [
    {
     "data": {
      "text/plain": [
       "2913"
      ]
     },
     "execution_count": 22,
     "metadata": {},
     "output_type": "execute_result"
    }
   ],
   "source": [
    "np.sum(y<0)"
   ]
  },
  {
   "cell_type": "code",
   "execution_count": 8,
   "metadata": {},
   "outputs": [
    {
     "name": "stdout",
     "output_type": "stream",
     "text": [
      "['genjet_pt1', 'genjet_pt2', 'genjet_pt3', 'genjet_pt4', 'genjet_pt5', 'genlep1_charge', 'genlep1_e', 'genlep1_iso', 'genlep1_px', 'genlep1_py', 'genlep1_pz', 'genlep2_charge', 'genlep2_e', 'genlep2_iso', 'genlep2_px', 'genlep2_pz', 'genmet', 'genmetphi', 'genmll', 'jet_pt1', 'jet_pt2', 'jet_pt3', 'jet_pt4', 'jet_pt5', 'lep1_charge', 'lep1_e', 'lep1_iso', 'lep1_px', 'lep1_py', 'lep1_pz', 'lep2_charge', 'lep2_e', 'lep2_iso', 'lep2_px', 'lep2_pz', 'met', 'metphi', 'mll', 'nvtxs']\n"
     ]
    }
   ],
   "source": [
    "print hlf_features"
   ]
  },
  {
   "cell_type": "code",
   "execution_count": null,
   "metadata": {},
   "outputs": [],
   "source": [
    "hlf_features = ['genjet_pt1', 'genjet_pt2', 'genjet_pt3', 'genjet_pt4', 'genjet_pt5', \n",
    "                'genlep1_charge', 'genlep1_e', 'genlep1_iso', \n",
    "                'genlep1_px', 'genlep1_py', 'genlep1_pz', \n",
    "                'genlep2_charge', 'genlep2_e', 'genlep2_iso', \n",
    "                'genlep2_px', 'genlep2_pz', \n",
    "                'genmet', 'genmetphi', 'genmll', \n",
    "                'jet_pt1', 'jet_pt2', 'jet_pt3', 'jet_pt4', 'jet_pt5', \n",
    "                'lep1_charge', 'lep1_e', 'lep1_iso', 'lep1_px', 'lep1_py', 'lep1_pz', \n",
    "                'lep2_charge', 'lep2_e', 'lep2_iso', 'lep2_px', 'lep2_pz', \n",
    "                'met', 'metphi', 'mll', 'nvtxs']\n",
    "\n",
    "active_hlf_features = ['HT', 'allJetMass',\n",
    "                       'allMuPt', 'allMuMass',\n",
    "                       'allElePt','allEleMass',\n",
    "                       'LepPt', 'LepIsoCh', 'LepIsoGamma', 'LepIsoNeu',\n",
    "                       \n",
    "                       'METp', 'METo',\n",
    "                       \n",
    "                       'MT',\n",
    "                       \n",
    "                       'nMu', 'nJets', 'bJets', 'nEle', \n",
    "                       \n",
    "                       'LepCharge','LepIsEle', \n",
    "                       \n",
    "                       'nChHad', 'nNeuHad']\n",
    "\n",
    "sel = []\n",
    "for a in active_hlf_features:\n",
    "    for i,f in enumerate(hlf_features):\n",
    "        if a == f:\n",
    "            sel.append(i)\n",
    "\n",
    "x_axis_label = [ 'S_{T} [GeV]', 'Jets Mass [GeV]',\n",
    "                'Muons P_{T} [GeV]', 'Muons Mass [GeV]',\n",
    "                'Electrons P_{T} [GeV]', 'Electrons Mass [GeV]',\n",
    "                'Lep P_{T} [GeV]', 'ChPFIso', 'GammaPFIso', 'NeuPFIso',\n",
    "                \n",
    "#                 'METp [GeV]', 'METo [GeV]',\n",
    "                'p_{T #parallel}^{miss}', 'p_{T #perp}^{miss}',\n",
    "                \n",
    "                'M_{T} [GeV]',\n",
    "                \n",
    "                'Muons number', 'Jets number', 'b-tagged jets number', 'Electrons number',\n",
    "                \n",
    "                'Lep Charge [e]','IsEle',\n",
    "                \n",
    "                'Charged Had number', 'Neutral Had number']\n",
    "\n",
    "sel = []\n",
    "for a in active_hlf_features:\n",
    "    for i,f in enumerate(hlf_features):\n",
    "        if a == f:\n",
    "            sel.append(i)"
   ]
  },
  {
   "cell_type": "code",
   "execution_count": null,
   "metadata": {},
   "outputs": [],
   "source": [
    "len(active_hlf_features)"
   ]
  },
  {
   "cell_type": "code",
   "execution_count": null,
   "metadata": {},
   "outputs": [],
   "source": [
    "folder = '../data/HLF_ONLY/'\n",
    "datasets = glob(folder+'*.npy')\n",
    "\n",
    "dataset_path = {}\n",
    "for path in datasets:\n",
    "    n = os.path.basename(path)\n",
    "    aux = re.search(r'[a-zA-Z0-9]+_', n)\n",
    "    name = aux.group(0)[:-1]\n",
    "    print name, ' ---> ', path\n",
    "    dataset_path[name] = path"
   ]
  },
  {
   "cell_type": "code",
   "execution_count": null,
   "metadata": {},
   "outputs": [],
   "source": [
    "DS_name = {'Wlnu':'W',\n",
    "           'qcd':'QCD',\n",
    "           'Zll':'Z',\n",
    "           'ttbar':'t#bar{t}',\n",
    "           'Ato4l':'A #rightarrow 4l', \n",
    "           'hToTauTau':'h^{0} #rightarrow #tau#tau', \n",
    "           'hChToTauNu':'h^{+} #rightarrow #tau#nu',\n",
    "           'Wprime':'W^{\\'}',\n",
    "           'Zprime':'Z^{\\'}',\n",
    "           'leptoquark':'LQ'}"
   ]
  },
  {
   "cell_type": "code",
   "execution_count": null,
   "metadata": {
    "scrolled": false
   },
   "outputs": [],
   "source": [
    "dnd = []\n",
    "\n",
    "c = rt.TCanvas('c_out', 'c_out', 3200, 3800)\n",
    "c.Divide(3,7, 0., 0.005)\n",
    "\n",
    "colors = [1,2,4,8,46, 30, 40]\n",
    "\n",
    "binning_list = []\n",
    "\n",
    "max_prob_hlf = np.zeros(len(active_hlf_features))\n",
    "\n",
    "leg = rt.TLegend(0.05, 0.05, 1, 1)\n",
    "# leg.SetNColumns(2)\n",
    "leg.SetLineWidth(0)\n",
    "\n",
    "# for DS in dataset_path.keys():\n",
    "# DS_name = ['W', 'QCD', 'Z', 't#bar{t}']\n",
    "for j, DS in enumerate(['Wlnu', 'qcd', 'Zll', 'ttbar']):\n",
    "\n",
    "# for j, DS in enumerate(['Ato4l', 'hToTauTau', 'hChToTauNu', 'leptoquark']):    \n",
    "\n",
    "    arr = np.load(dataset_path[DS])[:, sel]\n",
    "    for i, nhlf in enumerate(active_hlf_features):\n",
    "        a = arr[:, i]\n",
    "        \n",
    "        tag = '_{}_{}'.format(DS, nhlf)\n",
    "        \n",
    "        if j==0:\n",
    "            if nhlf == 'allJetMass':\n",
    "                binning = [90, 0, 900]\n",
    "            elif nhlf in ['nChHad', 'nNeuHad']:\n",
    "                up = int(np.max(a) - int(np.max(a))%5 -1)\n",
    "                binning = [(up+1)/5, -0.5, up+0.5]\n",
    "            elif nhlf in ['nMu', 'nEle', 'nJets', 'bJets']:\n",
    "                length = np.max(a) - np.min(a) + 1\n",
    "                binning = [int(length), np.min(a)-0.5, np.max(a)+0.5]\n",
    "            elif nhlf in ['LepIsEle', 'LepCharge']:\n",
    "                binning = [2, np.min(a)-0.5, np.max(a)+0.5]\n",
    "            elif nhlf in ['allEleMass', 'allMuMass']:\n",
    "                binning = [100, -0.5, 500.]  \n",
    "            elif nhlf == 'LepPt':\n",
    "                bin_w = 10*(np.percentile(a,75) - np.percentile(a,25))/(len(a))**(1./3.)\n",
    "                if bin_w == 0:\n",
    "                    bin_w = np.std(a)/5\n",
    "                binning = [None, 20, np.percentile(a, 99.)]\n",
    "                binning[0] = int((binning[2] - binning[1])/bin_w) + 2\n",
    "            else:\n",
    "                bin_w = 10*(np.percentile(a,75) - np.percentile(a,25))/(len(a))**(1./3.)\n",
    "                if bin_w == 0:\n",
    "                    bin_w = np.std(a)/5\n",
    "                binning = [None, np.percentile(a, .1), np.percentile(a, 99.5)]\n",
    "                binning[0] = int((binning[2] - binning[1])/bin_w) + 2\n",
    "            binning_list.append(binning)\n",
    "\n",
    "        h = create_TH1D(a, 'h'+tag, '', binning=binning_list[i])\n",
    "        h.SetLineWidth(5)\n",
    "        h.SetXTitle(x_axis_label[i])\n",
    "#         h.SetYTitle('Probability')\n",
    "        h.GetXaxis().SetTitleOffset(1.02)\n",
    "        h.GetXaxis().SetLabelOffset(0.01)\n",
    "        h.GetYaxis().SetLabelOffset(0.01)\n",
    "    \n",
    "        h.GetXaxis().SetTitleSize(0.11)\n",
    "        h.GetXaxis().SetLabelSize(0.11)\n",
    "        h.GetYaxis().SetLabelSize(0.11)\n",
    "        \n",
    "        h.GetYaxis().SetNdivisions(4,0,0)\n",
    "        h.GetXaxis().SetNdivisions(4,0,0)\n",
    "    \n",
    "        h.Scale(1./h.GetEntries())\n",
    "        max_prob_hlf[i] = max(max_prob_hlf[i], h.GetMaximum())\n",
    "        \n",
    "        h.SetStats(0)\n",
    "        h.SetLineColor(colors[j])\n",
    "\n",
    "        opt = ''\n",
    "        if j != 0:\n",
    "            opt += 'SAME'\n",
    "        pad = c.cd(i+1)\n",
    "        h.Sumw2(0)\n",
    "        h.Draw(''+opt)\n",
    "\n",
    "        if j==0:\n",
    "            pad.SetGrid(0,0)\n",
    "            pad.SetTopMargin(0.07)\n",
    "            pad.SetBottomMargin(0.24)\n",
    "            pad.SetRightMargin(0.05)            \n",
    "            pad.SetLeftMargin(0.12)            \n",
    "            if nhlf.startswith('LepIso') or nhlf.startswith('all') or nhlf=='HT':\n",
    "                pad.SetLogy()\n",
    "            else:\n",
    "                h.GetYaxis().SetRangeUser(0, h.GetMaximum()*1.1)\n",
    "            \n",
    "        dnd.append(h)\n",
    "    l = rt.TLine()\n",
    "    l.SetLineWidth(5)\n",
    "    l.SetLineColor(colors[j])\n",
    "    leg.AddEntry(l, DS_name[DS], 'l')\n",
    "    dnd.append(l)\n",
    "        \n",
    "for i in range(len(active_hlf_features)):\n",
    "    dnd[i].GetYaxis().SetRangeUser(1e-6+dnd[i].GetMinimum(), 1.1*max_prob_hlf[i])\n",
    "\n",
    "c.Update()\n",
    "c.Draw()\n",
    "c.SaveAs('../fig/paper_fig/SM_HLF_Summary.root')\n",
    "c.SaveAs('../fig/paper_fig/SM_HLF_Summary.png')\n",
    "c.SaveAs('../../www/DatasetCheck/SM_HLF_Summary.png')\n",
    "dnd.append(c)\n",
    "\n",
    "c2 = rt.TCanvas('c_leg', 'c_leg', 3200, 130)\n",
    "c2.cd()\n",
    "leg.SetNColumns(4);\n",
    "# h = rt.TH1F('hvoid','hvoid',1,0,1)\n",
    "# h.Draw('SAME')\n",
    "leg.Draw()\n",
    "c2.Draw()\n",
    "c2.SaveAs('../fig/paper_fig/SM_HLF_Summary_leg.png')"
   ]
  },
  {
   "cell_type": "code",
   "execution_count": null,
   "metadata": {},
   "outputs": [],
   "source": [
    "DS_name"
   ]
  },
  {
   "cell_type": "code",
   "execution_count": null,
   "metadata": {},
   "outputs": [],
   "source": []
  }
 ],
 "metadata": {
  "kernelspec": {
   "display_name": "Python 2",
   "language": "python",
   "name": "python2"
  },
  "language_info": {
   "codemirror_mode": {
    "name": "ipython",
    "version": 2
   },
   "file_extension": ".py",
   "mimetype": "text/x-python",
   "name": "python",
   "nbconvert_exporter": "python",
   "pygments_lexer": "ipython2",
   "version": "2.7.14"
  }
 },
 "nbformat": 4,
 "nbformat_minor": 2
}
