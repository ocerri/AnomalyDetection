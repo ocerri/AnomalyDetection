{
 "cells": [
  {
   "cell_type": "markdown",
   "metadata": {},
   "source": [
    "AE with a arhcitecture similar to the VAE in v 7.1"
   ]
  },
  {
   "cell_type": "code",
   "execution_count": 1,
   "metadata": {},
   "outputs": [],
   "source": [
    "VAEversion='0'"
   ]
  },
  {
   "cell_type": "code",
   "execution_count": 2,
   "metadata": {},
   "outputs": [],
   "source": [
    "from glob import glob\n",
    "import os, sys, scipy, pickle\n",
    "from scipy.stats import chi2, poisson\n",
    "import numpy as np\n",
    "\n",
    "import matplotlib.pyplot as plt\n",
    "import matplotlib\n",
    "%matplotlib inline\n",
    "matplotlib.rcParams.update({'font.size': 16})\n",
    "\n",
    "from prettytable import PrettyTable"
   ]
  },
  {
   "cell_type": "code",
   "execution_count": 4,
   "metadata": {},
   "outputs": [
    {
     "name": "stderr",
     "output_type": "stream",
     "text": [
      "/Users/olmo/programs/root-6.10.08/lib/ROOT.py:318: FutureWarning: Conversion of the second argument of issubdtype from `float` to `np.floating` is deprecated. In future, it will be treated as `np.float64 == np.dtype(float).type`.\n",
      "  return _orig_ihook( name, *args, **kwds )\n",
      "Using TensorFlow backend.\n"
     ]
    }
   ],
   "source": [
    "import ROOT as rt\n",
    "import root_numpy as rtnp\n",
    "from utility_func import *"
   ]
  },
  {
   "cell_type": "code",
   "execution_count": 5,
   "metadata": {},
   "outputs": [
    {
     "name": "stdout",
     "output_type": "stream",
     "text": [
      "2.1.2\n"
     ]
    }
   ],
   "source": [
    "from keras.layers import Input, Dense, Lambda, Layer\n",
    "from keras.models import Model\n",
    "from keras import backend as K\n",
    "from keras import layers as KL\n",
    "from keras import metrics\n",
    "from keras import optimizers\n",
    "from keras.callbacks import EarlyStopping, ReduceLROnPlateau, TerminateOnNaN, ModelCheckpoint\n",
    "from keras.constraints import max_norm\n",
    "import keras\n",
    "print keras.__version__"
   ]
  },
  {
   "cell_type": "code",
   "execution_count": 6,
   "metadata": {},
   "outputs": [],
   "source": [
    "do_training = 1"
   ]
  },
  {
   "cell_type": "markdown",
   "metadata": {},
   "source": [
    "# Get the samples"
   ]
  },
  {
   "cell_type": "code",
   "execution_count": 7,
   "metadata": {},
   "outputs": [],
   "source": [
    "hlf_features = ['HT', 'METp', 'METo', 'MT', 'nJets', \n",
    "                'bJets', 'allJetMass', 'LepPt', 'LepEta', \n",
    "                'LepIsoCh', 'LepIsoGamma', 'LepIsoNeu', 'LepCharge', \n",
    "                'LepIsEle', 'nMu', 'allMuMass', 'allMuPt', 'nEle', \n",
    "                'allEleMass', 'allElePt', 'nChHad', 'nNeuHad', 'nPhoton']\n",
    "\n",
    "active_hlf_features = ['HT', 'allJetMass',\n",
    "                       'allMuPt', 'allMuMass',\n",
    "                       'allElePt','allEleMass',\n",
    "                       'LepPt', 'LepIsoCh', 'LepIsoGamma', 'LepIsoNeu',\n",
    "                       \n",
    "                       'METp', 'METo',\n",
    "                       \n",
    "                       'MT',\n",
    "                       \n",
    "                       'nMu', 'nJets', 'bJets', 'nEle', \n",
    "                       \n",
    "                       'LepCharge','LepIsEle', \n",
    "                       \n",
    "                       'nChHad', 'nNeuHad']\n",
    "\n",
    "Nf_lognorm = 10\n",
    "Nf_gauss = 2\n",
    "Nf_Pgauss = 1\n",
    "Nf_PDgauss = 4\n",
    "Nf_binomial = 2\n",
    "Nf_poisson = 2\n",
    "\n",
    "sel = []\n",
    "for a in active_hlf_features:\n",
    "    for i,f in enumerate(hlf_features):\n",
    "        if a == f:\n",
    "            sel.append(i)\n",
    "# print 'Activated HLF:'\n",
    "# for n in np.array(hlf_features)[sel]:\n",
    "#     print '\\t', n"
   ]
  },
  {
   "cell_type": "code",
   "execution_count": 8,
   "metadata": {},
   "outputs": [],
   "source": [
    "data_folder = '../data/HLF_ONLY/'\n",
    "TrainSamplesName = ['Wlnu', 'qcd', 'Zll', 'ttbar']\n",
    "BSM_samples = ['Ato4l', 'Zprime', 'Wprime', 'leptoquark', 'hToTauTau', 'hChToTauNu']\n",
    "\n",
    "N_train_max = int(9e6)\n",
    "training_split_fraction = 0.5"
   ]
  },
  {
   "cell_type": "code",
   "execution_count": 9,
   "metadata": {},
   "outputs": [
    {
     "name": "stdout",
     "output_type": "stream",
     "text": [
      "QCD is limiting, using it for both val and split\n",
      "Limiting stat. sample: qcd\n",
      "Expected 3.45M train\n",
      "Expected 3.45M val\n"
     ]
    }
   ],
   "source": [
    "fraction = np.array([0.592, 0.338, 0.067, 0.003])\n",
    "\n",
    "raw_sample = {}\n",
    "l = np.zeros(4)\n",
    "for i,n in enumerate(TrainSamplesName):\n",
    "    raw_sample[n] = np.load(data_folder+n+'_sample.npy')\n",
    "#     np.random.shuffle(raw_sample[n])\n",
    "    l[i] = raw_sample[n].shape[0]\n",
    "    \n",
    "i_min = np.argmin(l/fraction)\n",
    "if TrainSamplesName[i_min]=='qcd':\n",
    "    print 'QCD is limiting, using it for both val and split'\n",
    "    N_train = min(N_train_max, l[i_min]/fraction[i_min])\n",
    "else:\n",
    "    N_train = min(N_train_max, training_split_fraction*l[i_min]/fraction[i_min])\n",
    "\n",
    "if N_train < N_train_max:\n",
    "    print 'Limiting stat. sample:', TrainSamplesName[i_min]\n",
    "else:\n",
    "    print 'Sample available satisfying '\n",
    "\n",
    "N_val = N_train*(1-training_split_fraction)/training_split_fraction - 1\n",
    "print 'Expected {:.2f}M train'.format(N_train/1.0e6)\n",
    "print 'Expected {:.2f}M val'.format(N_val/1.0e6)"
   ]
  },
  {
   "cell_type": "code",
   "execution_count": 10,
   "metadata": {},
   "outputs": [
    {
     "name": "stdout",
     "output_type": "stream",
     "text": [
      "QCD is limiting, using it for both val and split\n",
      "+--------+----------+---------+---------+\n",
      "| Sample | Evts tot |  Train  |   Val   |\n",
      "+--------+----------+---------+---------+\n",
      "|  Wlnu  | 8000082  | 2042566 | 2042565 |\n",
      "|  qcd   | 1166195  | 1166195 | 1166194 |\n",
      "|  Zll   | 1777383  |  231168 |  231168 |\n",
      "| ttbar  | 5001726  |  10350  |  10350  |\n",
      "+--------+----------+---------+---------+\n",
      "Tot training 3.45 M\n",
      "Tot val 3.45 M\n"
     ]
    }
   ],
   "source": [
    "x_train_s = {}\n",
    "x_val_s = {}\n",
    "\n",
    "table = PrettyTable(['Sample', 'Evts tot', 'Train', 'Val'])\n",
    "\n",
    "for i,n in enumerate(TrainSamplesName):\n",
    "    N_train_aux = int(N_train * fraction[i])\n",
    "    x_train_s[n] = raw_sample[n][:N_train_aux, sel]\n",
    "    N_val_aux = int(N_val * fraction[i])\n",
    "    if TrainSamplesName[i_min]=='qcd' and n == 'qcd':\n",
    "        print 'QCD is limiting, using it for both val and split'\n",
    "        np.random.shuffle(raw_sample[n])\n",
    "        x_val_s[n] = raw_sample[n][:N_val_aux, sel]\n",
    "    elif N_train_aux+N_val_aux < raw_sample[n].shape[0]:\n",
    "        x_val_s[n] = raw_sample[n][N_train_aux : N_train_aux+N_val_aux, sel]\n",
    "    else:\n",
    "        print 'Error', n\n",
    "        continue\n",
    "    table.add_row([n, raw_sample[n].shape[0], x_train_s[n].shape[0], x_val_s[n].shape[0]])\n",
    "print table\n",
    "    \n",
    "x_train = np.concatenate((x_train_s['Wlnu'], x_train_s['qcd'], x_train_s['Zll'], x_train_s['ttbar']))\n",
    "x_val = np.concatenate((x_val_s['Wlnu'], x_val_s['qcd'], x_val_s['Zll'], x_val_s['ttbar']))\n",
    "\n",
    "print 'Tot training {:.2f} M'.format(x_train.shape[0]/1.0e6)\n",
    "print 'Tot val {:.2f} M'.format(x_val.shape[0]/1.0e6)"
   ]
  },
  {
   "cell_type": "markdown",
   "metadata": {},
   "source": [
    "# Start the VAE declaration"
   ]
  },
  {
   "cell_type": "code",
   "execution_count": 11,
   "metadata": {},
   "outputs": [],
   "source": [
    "original_dim = x_train.shape[1]\n",
    "latent_dim = 4\n",
    "intermediate_dim = 50\n",
    "kernel_max_norm = 1000.\n",
    "act_fun = 'relu'"
   ]
  },
  {
   "cell_type": "code",
   "execution_count": 12,
   "metadata": {},
   "outputs": [],
   "source": [
    "x_DNN_input = Input(shape=(original_dim,), name='Input')\n",
    "hidden_1 = Dense(intermediate_dim, activation=act_fun, name='Encoder_h1')\n",
    "aux = hidden_1(x_DNN_input)\n",
    "hidden_2 = Dense(intermediate_dim, activation=act_fun, kernel_constraint=max_norm(kernel_max_norm), name='Encoder_h2')\n",
    "aux = hidden_2(aux)\n",
    "\n",
    "L_z_latent = Dense(latent_dim, name='Latent')\n",
    "T_z_latent = L_z_latent(aux)"
   ]
  },
  {
   "cell_type": "code",
   "execution_count": 15,
   "metadata": {},
   "outputs": [],
   "source": [
    "decoder_h1 = Dense(intermediate_dim, \n",
    "                   activation=act_fun, \n",
    "                   kernel_constraint=max_norm(kernel_max_norm), \n",
    "                   name='Decoder_h1')(T_z_latent)\n",
    "\n",
    "decoder_h2 = Dense(intermediate_dim, activation=act_fun, name='Decoder_h2')(decoder_h1)\n",
    "\n",
    "x_output = Dense(original_dim, name='Output')(decoder_h2)"
   ]
  },
  {
   "cell_type": "code",
   "execution_count": 16,
   "metadata": {},
   "outputs": [
    {
     "name": "stdout",
     "output_type": "stream",
     "text": [
      "_________________________________________________________________\n",
      "Layer (type)                 Output Shape              Param #   \n",
      "=================================================================\n",
      "Input (InputLayer)           (None, 21)                0         \n",
      "_________________________________________________________________\n",
      "Encoder_h1 (Dense)           (None, 50)                1100      \n",
      "_________________________________________________________________\n",
      "Encoder_h2 (Dense)           (None, 50)                2550      \n",
      "_________________________________________________________________\n",
      "Latent (Dense)               (None, 4)                 204       \n",
      "_________________________________________________________________\n",
      "Decoder_h1 (Dense)           (None, 50)                250       \n",
      "_________________________________________________________________\n",
      "Decoder_h2 (Dense)           (None, 50)                2550      \n",
      "_________________________________________________________________\n",
      "Output (Dense)               (None, 21)                1071      \n",
      "=================================================================\n",
      "Total params: 7,725\n",
      "Trainable params: 7,725\n",
      "Non-trainable params: 0\n",
      "_________________________________________________________________\n",
      "None\n"
     ]
    }
   ],
   "source": [
    "vae = Model(inputs=x_DNN_input, outputs=x_output)\n",
    "\n",
    "vae.compile(optimizer='adam', \n",
    "            loss='MSE'\n",
    "            )\n",
    "\n",
    "print vae.summary()"
   ]
  },
  {
   "cell_type": "markdown",
   "metadata": {},
   "source": [
    "# Training"
   ]
  },
  {
   "cell_type": "code",
   "execution_count": 17,
   "metadata": {
    "scrolled": false
   },
   "outputs": [
    {
     "name": "stdout",
     "output_type": "stream",
     "text": [
      "Train on 3450279 samples, validate on 3450277 samples\n",
      "Epoch 1/400\n",
      "3450279/3450279 [==============================] - 20s 6us/step - loss: 101.5323 - val_loss: 54.8225\n",
      "Epoch 2/400\n",
      "3450279/3450279 [==============================] - 21s 6us/step - loss: 51.4724 - val_loss: 48.9311\n",
      "Epoch 3/400\n",
      "3450279/3450279 [==============================] - 20s 6us/step - loss: 44.1150 - val_loss: 41.1823\n",
      "Epoch 4/400\n",
      "3450279/3450279 [==============================] - 20s 6us/step - loss: 40.1805 - val_loss: 38.5868\n",
      "Epoch 5/400\n",
      "3450279/3450279 [==============================] - 19s 6us/step - loss: 38.4227 - val_loss: 37.8433\n",
      "Epoch 6/400\n",
      "3450279/3450279 [==============================] - 19s 6us/step - loss: 37.2289 - val_loss: 36.5888\n",
      "Epoch 7/400\n",
      "3450279/3450279 [==============================] - 20s 6us/step - loss: 36.1736 - val_loss: 36.2806\n",
      "Epoch 8/400\n",
      "3450279/3450279 [==============================] - 19s 6us/step - loss: 35.1511 - val_loss: 34.9874\n",
      "Epoch 9/400\n",
      "3450279/3450279 [==============================] - 19s 6us/step - loss: 34.2966 - val_loss: 34.1295\n",
      "Epoch 10/400\n",
      "3450279/3450279 [==============================] - 21s 6us/step - loss: 33.7585 - val_loss: 33.6094\n",
      "Epoch 11/400\n",
      "3450279/3450279 [==============================] - 19s 6us/step - loss: 33.2787 - val_loss: 33.7402\n",
      "Epoch 12/400\n",
      "3450279/3450279 [==============================] - 20s 6us/step - loss: 32.8234 - val_loss: 32.7557\n",
      "Epoch 13/400\n",
      "3450279/3450279 [==============================] - 20s 6us/step - loss: 32.5224 - val_loss: 34.5579\n",
      "Epoch 14/400\n",
      "3450279/3450279 [==============================] - 20s 6us/step - loss: 32.2999 - val_loss: 32.4902\n",
      "Epoch 15/400\n",
      "3450279/3450279 [==============================] - 19s 6us/step - loss: 31.9302 - val_loss: 32.7423\n",
      "Epoch 16/400\n",
      "3450279/3450279 [==============================] - 20s 6us/step - loss: 31.7482 - val_loss: 31.2836\n",
      "Epoch 17/400\n",
      "3450279/3450279 [==============================] - 19s 6us/step - loss: 31.5122 - val_loss: 31.0953\n",
      "Epoch 18/400\n",
      "3450279/3450279 [==============================] - 19s 6us/step - loss: 31.1618 - val_loss: 30.9299\n",
      "Epoch 19/400\n",
      "3450279/3450279 [==============================] - 19s 6us/step - loss: 30.7724 - val_loss: 30.4183\n",
      "Epoch 20/400\n",
      "3450279/3450279 [==============================] - 20s 6us/step - loss: 30.4341 - val_loss: 30.9111\n",
      "Epoch 21/400\n",
      "3450279/3450279 [==============================] - 19s 6us/step - loss: 30.1035 - val_loss: 30.1887\n",
      "Epoch 22/400\n",
      "3450279/3450279 [==============================] - 19s 6us/step - loss: 29.9555 - val_loss: 30.0842\n",
      "Epoch 23/400\n",
      "3450279/3450279 [==============================] - 19s 6us/step - loss: 29.6793 - val_loss: 29.3878\n",
      "Epoch 24/400\n",
      "3450279/3450279 [==============================] - 19s 6us/step - loss: 29.3935 - val_loss: 29.4343\n",
      "Epoch 25/400\n",
      "3450279/3450279 [==============================] - 20s 6us/step - loss: 29.2870 - val_loss: 28.9197\n",
      "Epoch 26/400\n",
      "3450279/3450279 [==============================] - 20s 6us/step - loss: 29.2874 - val_loss: 29.4334\n",
      "Epoch 27/400\n",
      "3450279/3450279 [==============================] - 19s 5us/step - loss: 29.0667 - val_loss: 28.9430\n",
      "Epoch 28/400\n",
      "3450279/3450279 [==============================] - 19s 5us/step - loss: 28.9650 - val_loss: 30.5403\n",
      "Epoch 29/400\n",
      "3450279/3450279 [==============================] - 20s 6us/step - loss: 28.7242 - val_loss: 28.5260\n",
      "Epoch 30/400\n",
      "3450279/3450279 [==============================] - 19s 6us/step - loss: 28.5680 - val_loss: 28.7881\n",
      "Epoch 31/400\n",
      "3450279/3450279 [==============================] - 20s 6us/step - loss: 28.4111 - val_loss: 28.9233\n",
      "Epoch 32/400\n",
      "3450279/3450279 [==============================] - 20s 6us/step - loss: 28.4274 - val_loss: 28.2181\n",
      "Epoch 33/400\n",
      "3450279/3450279 [==============================] - 19s 6us/step - loss: 28.4402 - val_loss: 27.9220\n",
      "Epoch 34/400\n",
      "3450279/3450279 [==============================] - 19s 6us/step - loss: 28.0324 - val_loss: 28.0419\n",
      "Epoch 35/400\n",
      "3450279/3450279 [==============================] - 20s 6us/step - loss: 28.3244 - val_loss: 28.7563\n",
      "Epoch 36/400\n",
      "3450279/3450279 [==============================] - 19s 6us/step - loss: 28.1864 - val_loss: 28.5146\n",
      "Epoch 37/400\n",
      "3450279/3450279 [==============================] - 19s 6us/step - loss: 27.9019 - val_loss: 27.5511\n",
      "Epoch 38/400\n",
      "3450279/3450279 [==============================] - 20s 6us/step - loss: 27.7624 - val_loss: 27.5292\n",
      "Epoch 39/400\n",
      "3450279/3450279 [==============================] - 19s 6us/step - loss: 28.0496 - val_loss: 28.1946\n",
      "Epoch 40/400\n",
      "3450279/3450279 [==============================] - 19s 6us/step - loss: 28.0950 - val_loss: 27.6478\n",
      "Epoch 41/400\n",
      "3450279/3450279 [==============================] - 20s 6us/step - loss: 28.0578 - val_loss: 27.5069\n",
      "Epoch 42/400\n",
      "3450279/3450279 [==============================] - 20s 6us/step - loss: 27.6277 - val_loss: 28.4775\n",
      "Epoch 43/400\n",
      "3450279/3450279 [==============================] - 21s 6us/step - loss: 27.7941 - val_loss: 28.4014\n",
      "Epoch 44/400\n",
      "3450279/3450279 [==============================] - 22s 6us/step - loss: 27.5431 - val_loss: 27.5252\n",
      "Epoch 45/400\n",
      "3450279/3450279 [==============================] - 21s 6us/step - loss: 27.9431 - val_loss: 28.9673\n",
      "Epoch 46/400\n",
      "3450279/3450279 [==============================] - 20s 6us/step - loss: 27.9040 - val_loss: 27.7951\n",
      "Epoch 47/400\n",
      "3450279/3450279 [==============================] - 20s 6us/step - loss: 27.3736 - val_loss: 31.3801\n",
      "Epoch 48/400\n",
      "3450279/3450279 [==============================] - 20s 6us/step - loss: 28.7558 - val_loss: 29.1168\n",
      "Epoch 49/400\n",
      "3450279/3450279 [==============================] - 20s 6us/step - loss: 28.9219 - val_loss: 29.9596\n",
      "Epoch 50/400\n",
      "3447000/3450279 [============================>.] - ETA: 0s - loss: 28.9100\n",
      "Epoch 00050: reducing learning rate to 0.00010000000475.\n",
      "3450279/3450279 [==============================] - 20s 6us/step - loss: 28.9090 - val_loss: 28.6569\n",
      "Epoch 51/400\n",
      "3450279/3450279 [==============================] - 20s 6us/step - loss: 26.9264 - val_loss: 26.7089\n",
      "Epoch 52/400\n",
      "3450279/3450279 [==============================] - 19s 6us/step - loss: 26.5114 - val_loss: 26.4553\n",
      "Epoch 53/400\n",
      "3450279/3450279 [==============================] - 20s 6us/step - loss: 26.3158 - val_loss: 26.2388\n",
      "Epoch 54/400\n",
      "3450279/3450279 [==============================] - 20s 6us/step - loss: 26.1977 - val_loss: 26.1736\n",
      "Epoch 55/400\n",
      "3450279/3450279 [==============================] - 21s 6us/step - loss: 26.0017 - val_loss: 26.2931\n",
      "Epoch 56/400\n",
      "3450279/3450279 [==============================] - 20s 6us/step - loss: 25.9143 - val_loss: 25.9618\n",
      "Epoch 57/400\n",
      "3450279/3450279 [==============================] - 20s 6us/step - loss: 25.8615 - val_loss: 25.8787\n",
      "Epoch 58/400\n",
      "3450279/3450279 [==============================] - 19s 6us/step - loss: 25.8117 - val_loss: 25.8097\n",
      "Epoch 59/400\n",
      "3450279/3450279 [==============================] - 20s 6us/step - loss: 25.7662 - val_loss: 25.9130\n",
      "Epoch 60/400\n",
      "3450279/3450279 [==============================] - 19s 6us/step - loss: 25.7294 - val_loss: 25.7871\n",
      "Epoch 61/400\n",
      "3450279/3450279 [==============================] - 20s 6us/step - loss: 25.7083 - val_loss: 25.7579\n",
      "Epoch 62/400\n",
      "3450279/3450279 [==============================] - 20s 6us/step - loss: 25.7128 - val_loss: 25.7445\n",
      "Epoch 63/400\n",
      "3450279/3450279 [==============================] - 20s 6us/step - loss: 25.6789 - val_loss: 25.7508\n",
      "Epoch 64/400\n",
      "3450279/3450279 [==============================] - 20s 6us/step - loss: 25.6494 - val_loss: 25.6942\n",
      "Epoch 65/400\n",
      "3450279/3450279 [==============================] - 20s 6us/step - loss: 25.6091 - val_loss: 25.6848\n",
      "Epoch 66/400\n",
      "3450279/3450279 [==============================] - 19s 6us/step - loss: 25.6160 - val_loss: 25.6553\n",
      "Epoch 67/400\n",
      "3450279/3450279 [==============================] - 19s 6us/step - loss: 25.5570 - val_loss: 25.6349\n",
      "Epoch 68/400\n",
      "3450279/3450279 [==============================] - 20s 6us/step - loss: 25.5589 - val_loss: 25.6134\n",
      "Epoch 69/400\n",
      "3450279/3450279 [==============================] - 19s 6us/step - loss: 25.5291 - val_loss: 25.5608\n",
      "Epoch 70/400\n",
      "3450279/3450279 [==============================] - 19s 6us/step - loss: 25.5377 - val_loss: 25.5903\n",
      "Epoch 71/400\n",
      "3450279/3450279 [==============================] - 19s 6us/step - loss: 25.5084 - val_loss: 25.5493\n"
     ]
    },
    {
     "name": "stdout",
     "output_type": "stream",
     "text": [
      "Epoch 72/400\n",
      "3450279/3450279 [==============================] - 19s 6us/step - loss: 25.4737 - val_loss: 25.5091\n",
      "Epoch 73/400\n",
      "3450279/3450279 [==============================] - 19s 6us/step - loss: 25.4233 - val_loss: 25.4807\n",
      "Epoch 74/400\n",
      "3450279/3450279 [==============================] - 19s 6us/step - loss: 25.4641 - val_loss: 25.5125\n",
      "Epoch 75/400\n",
      "3450279/3450279 [==============================] - 20s 6us/step - loss: 25.4302 - val_loss: 25.4939\n",
      "Epoch 76/400\n",
      "3450279/3450279 [==============================] - 19s 6us/step - loss: 25.4219 - val_loss: 25.5113\n",
      "Epoch 77/400\n",
      "3450279/3450279 [==============================] - 19s 6us/step - loss: 25.3888 - val_loss: 25.4623\n",
      "Epoch 78/400\n",
      "3450279/3450279 [==============================] - 19s 6us/step - loss: 25.3872 - val_loss: 25.4145\n",
      "Epoch 79/400\n",
      "3450279/3450279 [==============================] - 19s 6us/step - loss: 25.3926 - val_loss: 25.4993\n",
      "Epoch 80/400\n",
      "3450279/3450279 [==============================] - 19s 6us/step - loss: 25.3707 - val_loss: 25.4692\n",
      "Epoch 81/400\n",
      "3450279/3450279 [==============================] - 19s 6us/step - loss: 25.3538 - val_loss: 25.3907\n",
      "Epoch 82/400\n",
      "3450279/3450279 [==============================] - 19s 5us/step - loss: 25.3720 - val_loss: 25.4338\n",
      "Epoch 83/400\n",
      "3450279/3450279 [==============================] - 19s 6us/step - loss: 25.3527 - val_loss: 25.3816\n",
      "Epoch 84/400\n",
      "3450279/3450279 [==============================] - 20s 6us/step - loss: 25.3023 - val_loss: 25.3761\n",
      "Epoch 85/400\n",
      "3450279/3450279 [==============================] - 19s 6us/step - loss: 25.3356 - val_loss: 25.4711\n",
      "Epoch 86/400\n",
      "3450279/3450279 [==============================] - 19s 6us/step - loss: 25.3185 - val_loss: 25.4264\n",
      "Epoch 87/400\n",
      "3450279/3450279 [==============================] - 20s 6us/step - loss: 25.3573 - val_loss: 25.4007\n",
      "Epoch 88/400\n",
      "3450279/3450279 [==============================] - 19s 6us/step - loss: 25.3245 - val_loss: 25.2629\n",
      "Epoch 89/400\n",
      "3450279/3450279 [==============================] - 19s 6us/step - loss: 25.2764 - val_loss: 25.4274\n",
      "Epoch 90/400\n",
      "3450279/3450279 [==============================] - 20s 6us/step - loss: 25.2842 - val_loss: 25.4181\n",
      "Epoch 91/400\n",
      "3450279/3450279 [==============================] - 19s 6us/step - loss: 25.2669 - val_loss: 25.3764\n",
      "Epoch 92/400\n",
      "3450279/3450279 [==============================] - 19s 6us/step - loss: 25.2588 - val_loss: 25.3299\n",
      "Epoch 93/400\n",
      "3450279/3450279 [==============================] - 20s 6us/step - loss: 25.2309 - val_loss: 25.3195\n",
      "Epoch 94/400\n",
      "3450279/3450279 [==============================] - 19s 6us/step - loss: 25.2066 - val_loss: 25.2919\n",
      "Epoch 95/400\n",
      "3450279/3450279 [==============================] - 19s 6us/step - loss: 25.2574 - val_loss: 25.3393\n",
      "Epoch 96/400\n",
      "3450279/3450279 [==============================] - 19s 6us/step - loss: 25.2327 - val_loss: 25.2359\n",
      "Epoch 97/400\n",
      "3450279/3450279 [==============================] - 19s 6us/step - loss: 25.1540 - val_loss: 25.2636\n",
      "Epoch 98/400\n",
      "3450279/3450279 [==============================] - 19s 6us/step - loss: 25.1054 - val_loss: 25.1556\n",
      "Epoch 99/400\n",
      "3450279/3450279 [==============================] - 19s 6us/step - loss: 25.1054 - val_loss: 25.1143\n",
      "Epoch 100/400\n",
      "3450279/3450279 [==============================] - 19s 6us/step - loss: 25.1187 - val_loss: 25.2440\n",
      "Epoch 101/400\n",
      "3450279/3450279 [==============================] - 19s 6us/step - loss: 25.1004 - val_loss: 25.1721\n",
      "Epoch 102/400\n",
      "3450279/3450279 [==============================] - 19s 6us/step - loss: 25.0800 - val_loss: 25.1481\n",
      "Epoch 103/400\n",
      "3450279/3450279 [==============================] - 19s 6us/step - loss: 25.1167 - val_loss: 25.2082\n",
      "Epoch 104/400\n",
      "3450279/3450279 [==============================] - 19s 6us/step - loss: 25.0543 - val_loss: 25.1591\n",
      "Epoch 105/400\n",
      "3450279/3450279 [==============================] - 19s 6us/step - loss: 25.0375 - val_loss: 25.1839\n",
      "Epoch 106/400\n",
      "3450279/3450279 [==============================] - 20s 6us/step - loss: 25.0629 - val_loss: 25.1093\n",
      "Epoch 107/400\n",
      "3450279/3450279 [==============================] - 19s 6us/step - loss: 25.1225 - val_loss: 25.3416\n",
      "Epoch 108/400\n",
      "3445000/3450279 [============================>.] - ETA: 0s - loss: 25.2530\n",
      "Epoch 00108: reducing learning rate to 1.0000000475e-05.\n",
      "3450279/3450279 [==============================] - 19s 6us/step - loss: 25.2527 - val_loss: 25.6361\n",
      "Epoch 109/400\n",
      "3450279/3450279 [==============================] - 19s 6us/step - loss: 25.1813 - val_loss: 25.2640\n",
      "Epoch 110/400\n",
      "3450279/3450279 [==============================] - 19s 6us/step - loss: 25.1517 - val_loss: 25.2573\n",
      "Epoch 111/400\n",
      "3450279/3450279 [==============================] - 19s 6us/step - loss: 25.1335 - val_loss: 25.2345\n",
      "Epoch 112/400\n",
      "3450279/3450279 [==============================] - 19s 6us/step - loss: 25.1179 - val_loss: 25.2299\n",
      "Epoch 113/400\n",
      "3450279/3450279 [==============================] - 19s 6us/step - loss: 25.1172 - val_loss: 25.2486\n",
      "Epoch 114/400\n",
      "3450279/3450279 [==============================] - 19s 6us/step - loss: 25.1139 - val_loss: 25.2415\n",
      "Epoch 115/400\n",
      "3450279/3450279 [==============================] - 19s 6us/step - loss: 25.1167 - val_loss: 25.2246\n",
      "Epoch 116/400\n",
      "3439000/3450279 [============================>.] - ETA: 0s - loss: 25.1073\n",
      "Epoch 00116: reducing learning rate to 1.00000006569e-06.\n",
      "3450279/3450279 [==============================] - 19s 6us/step - loss: 25.1083 - val_loss: 25.2158\n",
      "Epoch 117/400\n",
      "3450279/3450279 [==============================] - 20s 6us/step - loss: 25.0803 - val_loss: 25.2026\n",
      "Epoch 118/400\n",
      "3450279/3450279 [==============================] - 19s 6us/step - loss: 25.0781 - val_loss: 25.2023\n",
      "Epoch 119/400\n",
      "3450279/3450279 [==============================] - 20s 6us/step - loss: 25.0765 - val_loss: 25.2035\n",
      "Epoch 120/400\n",
      "3450279/3450279 [==============================] - 19s 6us/step - loss: 25.0760 - val_loss: 25.2005\n",
      "Epoch 121/400\n",
      "3450279/3450279 [==============================] - 19s 6us/step - loss: 25.0757 - val_loss: 25.2004\n",
      "Epoch 122/400\n",
      "3450279/3450279 [==============================] - 19s 6us/step - loss: 25.0750 - val_loss: 25.2002\n",
      "Epoch 123/400\n",
      "3450279/3450279 [==============================] - 19s 6us/step - loss: 25.0739 - val_loss: 25.2018\n",
      "Epoch 124/400\n",
      "3439000/3450279 [============================>.] - ETA: 0s - loss: 25.0697\n",
      "Epoch 00124: reducing learning rate to 1.00000011116e-07.\n",
      "3450279/3450279 [==============================] - 19s 6us/step - loss: 25.0741 - val_loss: 25.2009\n",
      "Epoch 125/400\n",
      "3450279/3450279 [==============================] - 19s 6us/step - loss: 25.0713 - val_loss: 25.2002\n",
      "Epoch 126/400\n",
      "3450279/3450279 [==============================] - 19s 6us/step - loss: 25.0716 - val_loss: 25.2009\n",
      "Epoch 00126: early stopping\n"
     ]
    },
    {
     "name": "stderr",
     "output_type": "stream",
     "text": [
      "2019-02-06 13:34:25.351474: I tensorflow/core/platform/cpu_feature_guard.cc:137] Your CPU supports instructions that this TensorFlow binary was not compiled to use: SSE4.2 AVX AVX2 FMA\n"
     ]
    }
   ],
   "source": [
    "if do_training:    \n",
    "    fit_report = vae.fit(x=x_train, y=x_train,\n",
    "            validation_data = (x_val, x_val),\n",
    "            shuffle=True,\n",
    "            epochs=400,\n",
    "            batch_size=1000,\n",
    "            callbacks = [\n",
    "                            EarlyStopping(monitor='val_loss', patience=20, verbose=1, min_delta=0.005),\n",
    "                            ReduceLROnPlateau(monitor='val_loss', factor=0.1, patience=8, epsilon=0.01, verbose=1),\n",
    "                            TerminateOnNaN()\n",
    "                ])"
   ]
  },
  {
   "cell_type": "code",
   "execution_count": 19,
   "metadata": {},
   "outputs": [
    {
     "data": {
      "image/png": "[encoded data removed]",
      "text/plain": [
       "<matplotlib.figure.Figure at 0x2699c5650>"
      ]
     },
     "metadata": {},
     "output_type": "display_data"
    }
   ],
   "source": [
    "if do_training:\n",
    "    f = plt.figure(figsize=(16,8))\n",
    "    style = {'loss':'--'}\n",
    "    for item in style.keys():\n",
    "        plt.plot(fit_report.history[item][1:], style[item], label=item)\n",
    "        plt.plot(fit_report.history['val_'+item][1:], style[item], label='val_'+item)\n",
    "\n",
    "    plt.xlabel('Epoch')\n",
    "    plt.grid()\n",
    "    plt.legend(loc='best')\n",
    "    plt.yscale('log')\n",
    "    f.savefig('plots/TrainingHistory_VAE_all-in-one_v'+VAEversion+'.png')\n",
    "    \n",
    "    f = open('TrainingHistory_VAE_all-in-one_v'+VAEversion+'.pkl', 'w')\n",
    "    pickle.dump(fit_report.history, f, pickle.HIGHEST_PROTOCOL)\n",
    "    f.close()"
   ]
  },
  {
   "cell_type": "code",
   "execution_count": 20,
   "metadata": {},
   "outputs": [],
   "source": [
    "if do_training:\n",
    "    vae.save('AE_all-in-one_v'+VAEversion+'.h5')\n",
    "else:\n",
    "    from keras.models import load_model\n",
    "    custom_objects = {\n",
    "        'original_dim': x_train.shape[1],\n",
    "        'latent_dim': latent_dim,\n",
    "        'intermediate_dim': intermediate_dim,\n",
    "        'act_fun': act_fun,\n",
    "    }\n",
    "    \n",
    "    vae = load_model('AE_all-in-one_v'+VAEversion+'.h5', custom_objects=custom_objects)\n",
    "    print 'Loaded'"
   ]
  },
  {
   "cell_type": "markdown",
   "metadata": {},
   "source": [
    "### Build encoder and decoder"
   ]
  },
  {
   "cell_type": "markdown",
   "metadata": {},
   "source": [
    "Get prior means and variance array"
   ]
  },
  {
   "cell_type": "code",
   "execution_count": 21,
   "metadata": {},
   "outputs": [],
   "source": [
    "if do_training:\n",
    "    encoder = Model(inputs=x_DNN_input, outputs=T_z_latent)\n",
    "    encoder.save('encoder_all-in-one_v'+VAEversion+'.h5')\n",
    "else:\n",
    "    encoder = load_model('encoder_all-in-one_v'+VAEversion+'.h5', custom_objects=custom_objects)"
   ]
  },
  {
   "cell_type": "code",
   "execution_count": 22,
   "metadata": {},
   "outputs": [],
   "source": [
    "autoencoder = vae"
   ]
  },
  {
   "cell_type": "markdown",
   "metadata": {},
   "source": [
    "# Validation"
   ]
  },
  {
   "cell_type": "markdown",
   "metadata": {},
   "source": [
    "Gather the signal data"
   ]
  },
  {
   "cell_type": "code",
   "execution_count": 23,
   "metadata": {},
   "outputs": [],
   "source": [
    "x_sig = {}\n",
    "for n in BSM_samples+TrainSamplesName:\n",
    "    s = np.load(data_folder+n+'_sample.npy')\n",
    "    x_sig[n] = s[:N_train_max, sel]"
   ]
  },
  {
   "cell_type": "markdown",
   "metadata": {},
   "source": [
    "### Predict latent space"
   ]
  },
  {
   "cell_type": "code",
   "execution_count": null,
   "metadata": {},
   "outputs": [],
   "source": [
    "x_val_encoded = np.array(encoder.predict(x_val, batch_size=2000))\n",
    "\n",
    "x_sig_encoded = {}\n",
    "for k,v in x_sig.iteritems():\n",
    "    x_sig_encoded[k] = np.array(encoder.predict(v, batch_size=2000))"
   ]
  },
  {
   "cell_type": "markdown",
   "metadata": {},
   "source": [
    "Latent space mean distribution"
   ]
  },
  {
   "cell_type": "code",
   "execution_count": null,
   "metadata": {
    "scrolled": false
   },
   "outputs": [],
   "source": [
    "histos = []\n",
    "canvases = []\n",
    "N_bins = 100\n",
    "rt.gStyle.SetOptTitle(0)\n",
    "\n",
    "for kk in range(latent_dim):\n",
    "    print 'Plotting dim', kk, '...'\n",
    "    canvas = rt.TCanvas('c'+str(kk), 'c'+str(kk), 600, 400)\n",
    "    canvas.SetLeftMargin(0.16)\n",
    "    canvas.SetBottomMargin(0.16)\n",
    "    canvas.SetRightMargin(0.02)\n",
    "    canvas.SetTopMargin(0.02)\n",
    "\n",
    "    l_bound = mu_prior[kk] - 6*sigma_prior[kk]\n",
    "    u_bound = mu_prior[kk] + 6*sigma_prior[kk]\n",
    "    bin_width = (u_bound - l_bound)/N_bins\n",
    "    z = np.arange(l_bound, u_bound, bin_width)\n",
    "    \n",
    "    bin_content = sum_of_gaussians(z, x_val_encoded[0, :, kk], x_val_encoded[1, :, kk])*bin_width\n",
    "    print '\\t SMMix coverage: {:.3f}'.format(np.sum(bin_content))\n",
    "    h = rt.TH1F('h_SMMix_{}'.format(kk), 'SMMix', N_bins, l_bound-bin_width/2., u_bound+bin_width/2.)\n",
    "    for i,c in enumerate(bin_content): \n",
    "        h.SetBinContent(i+1, c)\n",
    "    h.GetYaxis().SetRangeUser(1e-5, 0.9)\n",
    "    h.SetStats(0)\n",
    "    h.SetLineWidth(0)\n",
    "    h.SetFillColorAlpha(rt.kGreen+2, 0.7)\n",
    "    h.SetFillStyle(3001)\n",
    "    \n",
    "    h.SetXTitle('z_{'+str(kk)+'}')\n",
    "    h.GetXaxis().SetTitleSize(0.06)\n",
    "    h.GetXaxis().SetLabelSize(0.06)\n",
    "    h.SetYTitle('p.d.f.')\n",
    "    h.GetYaxis().SetTitleSize(0.06)\n",
    "    h.GetYaxis().SetTitleOffset(1.16)\n",
    "    h.GetYaxis().SetLabelSize(0.06)    \n",
    "    \n",
    "    h.Draw('Bar')\n",
    "    histos.append(h)\n",
    "\n",
    "\n",
    "    colors = [1,2,4,rt.kYellow+2,6,7,8,46, 30, 40]\n",
    "    # fill\n",
    "    for i, n in enumerate(x_sig.keys()):\n",
    "        bin_content = sum_of_gaussians(z, x_sig_encoded[n][0, :, kk], x_sig_encoded[n][1, :, kk])*bin_width\n",
    "        print '\\t {} coverage: {:.3f}'.format(n, np.sum(bin_content))\n",
    "        h = rt.TH1F('h_{}_{}'.format(n, kk), n, N_bins, l_bound-bin_width/2., u_bound+bin_width/2.)\n",
    "        for j,c in enumerate(bin_content): \n",
    "            h.SetBinContent(j+1, c)\n",
    "\n",
    "        h.SetStats(0)\n",
    "        h.SetLineColor(colors[i])\n",
    "        h.SetLineWidth(2)\n",
    "        h.Draw('SAME')\n",
    "        histos.append(h)\n",
    "    leg = canvas.BuildLegend(0.8, 0.6, 0.99, 0.99, '','lf')\n",
    "        \n",
    "    line = rt.TLine()\n",
    "    line.SetLineWidth(2)\n",
    "    line.SetLineStyle(9)\n",
    "    line.SetLineColor(9)\n",
    "    l = line.DrawLine(mu_prior[kk], 1e-5, mu_prior[kk], 0.9)\n",
    "    leg.AddEntry(l, 'Prior Mean', 'l')\n",
    "    line.SetLineColor(40)\n",
    "    l = line.DrawLine(mu_prior[kk]-sigma_prior[kk], 1e-5, mu_prior[kk]-sigma_prior[kk], 0.9)\n",
    "    leg.AddEntry(l, 'Prior Sigma', 'l')\n",
    "    \n",
    "    line.DrawLine(mu_prior[kk]+sigma_prior[kk], 1e-5, mu_prior[kk]+sigma_prior[kk], 0.9)\n",
    "    \n",
    "    canvas.SetGrid()\n",
    "    canvas.SetLogy()\n",
    "    canvas.Draw()\n",
    "    canvas.Update()\n",
    "    canvases.append(canvas)\n",
    "    \n",
    "fout = rt.TFile('plots/all-in-one_v'+VAEversion+'_Zpdf.root', 'RECREATE')\n",
    "for obj in canvases + histos:\n",
    "    obj.Write()\n",
    "\n",
    "fout.Close()"
   ]
  },
  {
   "cell_type": "markdown",
   "metadata": {},
   "source": [
    "## Recostruction sum of pdf"
   ]
  },
  {
   "cell_type": "code",
   "execution_count": null,
   "metadata": {},
   "outputs": [],
   "source": [
    "out_ae_val = autoencoder.predict(x_val, batch_size=2000)"
   ]
  },
  {
   "cell_type": "code",
   "execution_count": null,
   "metadata": {
    "scrolled": false
   },
   "outputs": [],
   "source": [
    "f, ax_arr = plt.subplots(int(len(active_hlf_features)/3.),3 , figsize=(18,36))\n",
    "N_bins = 100\n",
    "for i,hlf_name in enumerate(active_hlf_features):\n",
    "    print hlf_name\n",
    "    \n",
    "    #Plot distribution of the variable\n",
    "    x_aux = x_val[:, i]\n",
    "    if i < Nf_lognorm:\n",
    "        histo_range = (0, np.percentile(x_aux, 99.9))\n",
    "        bin_content, bin_edges = np.histogram(x_aux, bins=N_bins, range=histo_range)\n",
    "        if np.sum(bin_edges>clip_x_to0) > 0:\n",
    "            i_aux = np.argmin(bin_edges<clip_x_to0)\n",
    "            bin_edges = np.concatenate((np.array([0, clip_x_to0]), bin_edges[i_aux:]))\n",
    "        else:\n",
    "            bin_edges = np.array([0, clip_x_to0])\n",
    "        bin_content, bin_edges = np.histogram(x_aux, bins=bin_edges, range=histo_range)\n",
    "        bincenters = 0.5*(bin_edges[1:]+bin_edges[:-1])\n",
    "        bin_width = bin_edges[1:] - bin_edges[:-1]\n",
    "        bin_width[0] = 1.\n",
    "\n",
    "        mu_vec = pars_ae_val[0][:, i]\n",
    "        sigma_vec = pars_ae_val[1][:, i]\n",
    "        f_vec = pars_ae_val[2][:, i]\n",
    "        spdf_bin_content = np.sum(bin_content)*bin_width*sum_of_lognorm(bincenters, f_vec, mu_vec, sigma_vec)\n",
    "    elif i < Nf_lognorm + Nf_gauss:\n",
    "        histo_range = (np.percentile(x_aux, .1), np.percentile(x_aux, 99.9))\n",
    "        bin_content, bin_edges = np.histogram(x_aux, bins=N_bins, range=histo_range)\n",
    "        bincenters = 0.5*(bin_edges[1:]+bin_edges[:-1])\n",
    "        bin_width = bincenters[1]-bincenters[0]\n",
    "\n",
    "        mu_vec = pars_ae_val[0][:, i]\n",
    "        sigma_vec = pars_ae_val[1][:, i]\n",
    "        spdf_bin_content = np.sum(bin_content)*bin_width*sum_of_gaussians(bincenters, mu_vec, sigma_vec)\n",
    "    elif i < Nf_lognorm + Nf_gauss + Nf_Pgauss:\n",
    "        histo_range = (np.percentile(x_aux, .1), np.percentile(x_aux, 99.9))\n",
    "        bin_content, bin_edges = np.histogram(x_aux, bins=N_bins, range=histo_range)\n",
    "        bincenters = 0.5*(bin_edges[1:]+bin_edges[:-1])\n",
    "        bin_width = bincenters[1]-bincenters[0]\n",
    "\n",
    "        mu_vec = pars_ae_val[0][:, i]\n",
    "        sigma_vec = pars_ae_val[1][:, i]\n",
    "        spdf_bin_content = np.sum(bin_content)*bin_width*sum_of_Pgauss(bincenters, mu_vec, sigma_vec)\n",
    "    elif i < Nf_lognorm + Nf_gauss + Nf_Pgauss + Nf_PDgauss:\n",
    "        Nmax = int(np.percentile(x_aux, 99.9))\n",
    "        bin_content, bin_edges = np.histogram(x_aux, bins=Nmax+1, range=(-0.5, Nmax+0.5))\n",
    "        bincenters = 0.5*(bin_edges[1:]+bin_edges[:-1])\n",
    "        bin_width = bincenters[1]-bincenters[0]\n",
    "\n",
    "        mu_vec = pars_ae_val[0][:, i]\n",
    "        sigma_vec = pars_ae_val[1][:, i]\n",
    "        spdf_bin_content = np.sum(bin_content)*bin_width*sum_of_PDgauss(bincenters, mu_vec, sigma_vec)\n",
    "    elif i < Nf_lognorm + Nf_gauss + Nf_Pgauss + Nf_PDgauss + Nf_binomial:\n",
    "        bin_content, bin_edges = np.histogram(x_aux, bins=2, range=(np.min(x_aux), np.max(x_aux)))\n",
    "        bincenters = 0.5*(bin_edges[1:]+bin_edges[:-1])\n",
    "        bin_width = bincenters[1]-bincenters[0]\n",
    "        p = 0.5*(1+0.98*np.tanh(pars_ae_val[0][:, i]))\n",
    "\n",
    "        spdf_bin_content = np.zeros_like(bincenters)\n",
    "        spdf_bin_content[np.nonzero(bin_content)[0][1]] = np.sum(p)\n",
    "        spdf_bin_content[np.nonzero(bin_content)[0][0]] = np.sum(1-p)\n",
    "    else:\n",
    "        Nmax = int(np.percentile(x_aux, 99.5))\n",
    "        bin_content, bin_edges = np.histogram(x_aux, bins=Nmax+1, range=(-0.5, Nmax+0.5))\n",
    "        bincenters = 0.5*(bin_edges[1:]+bin_edges[:-1])\n",
    "        bin_width = bincenters[1]-bincenters[0]\n",
    "        aux = pars_ae_val[0][:, i]\n",
    "        mu_vec = 1 + np.where(np.greater(aux, 0), aux, np.divide(aux, np.sqrt(1+np.square(aux))))\n",
    "        spdf_bin_content = sum_of_possion(bincenters, mu_vec)\n",
    "\n",
    "\n",
    "    if i < Nf_lognorm:\n",
    "        bin_width[0] = clip_x_to0\n",
    "        \n",
    "    ax_arr[i/3, i%3].errorbar(bincenters, bin_content, xerr=bin_width/2., yerr=np.sqrt(bin_content), fmt='.b', label='input')\n",
    "    ax_arr[i/3, i%3].errorbar(bincenters, spdf_bin_content, xerr=bin_width/2., fmt='.r', label='spdf')\n",
    "    ax_arr[i/3, i%3].ticklabel_format(axis='y', style='sci')\n",
    "    ax_arr[i/3, i%3].grid()\n",
    "    ax_arr[i/3, i%3].set_title(hlf_name + ' - SMMix')        \n",
    "    ax_arr[i/3, i%3].legend(loc='best')\n",
    "    \n",
    "    if hlf_name.startswith('LepIso') or hlf_name.startswith('all'):\n",
    "        ax_arr[i/3, i%3].set_yscale('log')\n",
    "        \n",
    "        \n",
    "f.savefig('plots/SMMix_SumOfPdfs_v'+VAEversion+'.pdf')        \n",
    "plt.show()"
   ]
  },
  {
   "cell_type": "markdown",
   "metadata": {},
   "source": [
    "# Test Statistics with Losses"
   ]
  },
  {
   "cell_type": "code",
   "execution_count": 36,
   "metadata": {},
   "outputs": [
    {
     "name": "stdout",
     "output_type": "stream",
     "text": [
      "SMMix (3450279, 21)\n",
      "hToTauTau (344917, 21)\n",
      "Zll (1777383, 21)\n",
      "qcd (1166195, 21)\n",
      "Wlnu (8000082, 21)\n",
      "hChToTauNu (339018, 21)\n",
      "Wprime (605662, 21)\n",
      "Ato4l (652070, 21)\n",
      "leptoquark (583043, 21)\n",
      "Zprime (55362, 21)\n",
      "ttbar (5001726, 21)\n"
     ]
    }
   ],
   "source": [
    "print 'SMMix', x_train.shape\n",
    "out = x_train - vae.predict(x_train, batch_size=2000)\n",
    "loss_train = np.array([np.average(np.square(out), axis=1)])\n",
    "\n",
    "loss_sig = {}\n",
    "for n in x_sig.keys():\n",
    "    print n, x_sig[n].shape\n",
    "    out = x_sig[n] - vae.predict(x_sig[n], batch_size=2000)\n",
    "    loss_sig[n] = np.array([np.average(np.square(out), axis=1)])"
   ]
  },
  {
   "cell_type": "code",
   "execution_count": 44,
   "metadata": {},
   "outputs": [],
   "source": [
    "BSM_labels = {'Ato4l':r'$A\\to 4\\ell$', \n",
    "              'leptoquark':r'$LQ$', \n",
    "              'hToTauTau':r'$h^{0}\\to \\tau\\tau$', \n",
    "              'hChToTauNu':r'$h^{\\pm}\\to \\tau\\nu$'}"
   ]
  },
  {
   "cell_type": "code",
   "execution_count": 58,
   "metadata": {},
   "outputs": [
    {
     "data": {
      "image/png": "[encoded data removed]",
      "text/plain": [
       "<matplotlib.figure.Figure at 0x29e0441d0>"
      ]
     },
     "metadata": {},
     "output_type": "display_data"
    }
   ],
   "source": [
    "matplotlib.rcParams.update({'font.size': 28})\n",
    "histos = []\n",
    "canvases = []\n",
    "x_axis_titles = ['MSE', '$Loss_{reco}$', '$D_{KL}$']\n",
    "\n",
    "eff_SMMix = 5.38E-06\n",
    "\n",
    "f, ax_arr = plt.subplots(1, 1, figsize=(12, 12))\n",
    "\n",
    "for loss_piece in range(1):\n",
    "    up_end = 10*np.max(loss_train[loss_piece])\n",
    "    dwn_end = max(1e-1, np.min(loss_train[loss_piece]))\n",
    "    bins = np.logspace(start=np.log10(dwn_end), stop=np.log10(up_end), num=50)\n",
    "    \n",
    "    i_ax = loss_piece-1\n",
    "    ax_arr.hist(loss_train[loss_piece], bins=bins, normed=True, label='SM val. Mix', alpha=0.6)\n",
    "    \n",
    "    for n, loss in loss_sig.iteritems():\n",
    "        if n in BSM_labels.keys():\n",
    "            ax_arr.hist(loss[loss_piece], \n",
    "                              bins=bins, normed=True, \n",
    "                              histtype='step',\n",
    "                              lw=4,\n",
    "                              label=BSM_labels[n])\n",
    "            \n",
    "    ax_arr.set_yscale('log')\n",
    "    ax_arr.set_xscale('log')\n",
    "    ax_arr.set_xlabel(x_axis_titles[loss_piece])\n",
    "    ax_arr.set_ylabel('Probability')\n",
    "    ax_arr.set_ylim(ax_arr.set_ylim()[0], 9)\n",
    "    \n",
    "    q = np.percentile(loss_train[loss_piece], 100*(1-eff_SMMix))\n",
    "    ys = list(ax_arr.set_ylim())\n",
    "    ax_arr.plot([q, q], ys, lw = 3, color='m', ls='--', label='1k evts/month')\n",
    "    \n",
    "    ax_arr.legend(loc='best')\n",
    "    \n",
    "f.subplots_adjust(wspace=0.2)\n",
    "f.savefig('../fig/paper_fig/LossesPDF_AE_v'+VAEversion+'.png', bbox_inches='tight')"
   ]
  },
  {
   "cell_type": "code",
   "execution_count": 39,
   "metadata": {},
   "outputs": [
    {
     "name": "stdout",
     "output_type": "stream",
     "text": [
      "Ideal Eff SM --->> 5.38e-06\n",
      "\n",
      "\n",
      "\n",
      "---------------- MSE ----------------\n",
      "Zprime 0.0\n",
      "+--------+---------------------+-----------------+------------+\n",
      "| Sample |       VAE Eff       | Events fraction | evts/month |\n",
      "+--------+---------------------+-----------------+------------+\n",
      "|  Zll   | 1.3e-05 +/- 2.7e-06 |     12.30 %     | 161 +/- 34 |\n",
      "|  Wlnu  | 4.9e-06 +/- 7.8e-07 |     40.96 %     | 537 +/- 86 |\n",
      "|  qcd   | 8.6e-07 +/- 8.6e-07 |      4.11 %     | 54 +/- 54  |\n",
      "| ttbar  | 1.0e-03 +/- 1.4e-05 |     42.63 %     | 559 +/- 8  |\n",
      "+--------+---------------------+-----------------+------------+\n",
      "Eff VAE SM: 7.05e-06 +/- 5.76e-07\n",
      "Expected SM evts/month: 1311 +/- 107\n",
      "+------------+---------------------+----------------------------+-----------------------+\n",
      "|   Sample   |       VAE Eff       | xsec (100 evts/month) [fb] | xsec (S/B = 0.3) [fb] |\n",
      "+------------+---------------------+----------------------------+-----------------------+\n",
      "| hToTauTau  | 2.0e-04 +/- 2.4e-05 |          101446.2          |        4.0e+05        |\n",
      "|   Ato4l    | 2.3e-05 +/- 5.9e-06 |          869426.7          |        3.4e+06        |\n",
      "| hChToTauNu | 2.0e-03 +/- 7.6e-05 |          10074.8           |        4.0e+04        |\n",
      "|   Wprime   | 8.3e-06 +/- 3.7e-06 |         2422648.0          |        9.5e+06        |\n",
      "| leptoquark | 5.1e-05 +/- 9.4e-06 |          388695.3          |        1.5e+06        |\n",
      "+------------+---------------------+----------------------------+-----------------------+\n",
      "\n",
      "\n",
      "\n"
     ]
    }
   ],
   "source": [
    "SM_evts_per_month = 1000\n",
    "SM_tot_xsec = 37.205e6 #fb\n",
    "\n",
    "lumi_per_yr = 40 #fb^-1\n",
    "DataColl_month = 8.\n",
    "\n",
    "eff_SMMix = SM_evts_per_month/(SM_tot_xsec * lumi_per_yr/DataColl_month)\n",
    "print 'Ideal Eff SM --->> {:.2e}\\n\\n\\n'.format(eff_SMMix)\n",
    "\n",
    "for ll in range(1):\n",
    "    cut = np.percentile(loss_train[ll], 100*(1-eff_SMMix))\n",
    "    \n",
    "    print '----------------',Ytitles[ll], '----------------'\n",
    "    table_SM = PrettyTable(['Sample', 'VAE Eff','Events fraction', 'evts/month'])\n",
    "    table_BSM = PrettyTable(['Sample', 'VAE Eff', 'xsec (100 evts/month) [fb]', 'xsec (S/B = 0.3) [fb]'])\n",
    "    \n",
    "    N_SM_imp = 0\n",
    "    dN_SM_imp = 0\n",
    "    effSM_imp = 0\n",
    "    deffSM_imp = 0\n",
    "    for n, lss in loss_sig.items():\n",
    "        if n in TrainSamplesName:\n",
    "            aux = np.greater(lss[ll,:], cut)\n",
    "            selected = np.sum(aux)\n",
    "            eff = float(selected)/lss.shape[1]\n",
    "            d_eff = np.sqrt(eff*(1-eff)/lss.shape[1])\n",
    "\n",
    "            idx = TrainSamplesName.index(n)\n",
    "            \n",
    "            effSM_imp += fraction[idx]*eff\n",
    "            deffSM_imp += (fraction[idx]*d_eff)**2\n",
    "            \n",
    "            N_evts = SM_tot_xsec*fraction[idx]*eff*lumi_per_yr/DataColl_month\n",
    "            d_N_evts = N_evts*d_eff/eff\n",
    "            N_SM_imp += N_evts\n",
    "            dN_SM_imp += d_N_evts**2\n",
    "            \n",
    "    dN_SM_imp = np.sqrt(dN_SM_imp)\n",
    "    deffSM_imp = np.sqrt(deffSM_imp)\n",
    "    \n",
    "    \n",
    "    for n, lss in loss_sig.items():\n",
    "        aux = np.greater(lss[ll,:], cut)\n",
    "        selected = np.sum(aux)\n",
    "        eff = float(selected)/lss.shape[1]\n",
    "        d_eff = np.sqrt(eff*(1-eff)/lss.shape[1])\n",
    "        \n",
    "        if n in TrainSamplesName:\n",
    "            idx = TrainSamplesName.index(n)\n",
    "            N_evts = SM_tot_xsec*fraction[idx]*eff*lumi_per_yr/DataColl_month\n",
    "            d_N_evts = N_evts*d_eff/eff\n",
    "            table_SM.add_row([n,\n",
    "                              '{:1.1e} +/- {:1.1e}'.format(eff, d_eff), \n",
    "                              '{:.2f} %'.format(100*float(N_evts/N_SM_imp)),\n",
    "                              '{:.0f} +/- {:.0f}'.format(N_evts, d_N_evts)])\n",
    "        else:\n",
    "            if eff == 0:\n",
    "                print n, eff\n",
    "                continue\n",
    "            x_sec_lim = 100. * DataColl_month/(lumi_per_yr * eff)\n",
    "            x_sec_SoB = 0.3 * N_SM_imp * DataColl_month/(lumi_per_yr * eff)\n",
    "            table_BSM.add_row([n, \n",
    "                               '{:1.1e} +/- {:1.1e}'.format(eff, d_eff), \n",
    "                               '{:.1f}'.format(x_sec_lim), \n",
    "                               '{:1.1e}'.format(x_sec_SoB)])\n",
    "\n",
    "\n",
    "    print table_SM\n",
    "    print 'Eff VAE SM: {:.2e} +/- {:.2e}'.format(effSM_imp, deffSM_imp)\n",
    "    print 'Expected SM evts/month: {:.0f} +/- {:.0f}'.format(N_SM_imp , dN_SM_imp)\n",
    "    print table_BSM\n",
    "    print '\\n\\n'"
   ]
  },
  {
   "cell_type": "markdown",
   "metadata": {},
   "source": [
    "## ROC Curves"
   ]
  },
  {
   "cell_type": "code",
   "execution_count": 40,
   "metadata": {},
   "outputs": [
    {
     "name": "stdout",
     "output_type": "stream",
     "text": [
      "1\n"
     ]
    }
   ],
   "source": [
    "print i_min"
   ]
  },
  {
   "cell_type": "code",
   "execution_count": 41,
   "metadata": {},
   "outputs": [
    {
     "name": "stdout",
     "output_type": "stream",
     "text": [
      "Limiting stat. sample: qcd (1.17M)\n"
     ]
    },
    {
     "data": {
      "text/plain": [
       "[0.2553181818052045295, 1.0, 0.13006134938893120572, 0.0020694542634415144572]"
      ]
     },
     "execution_count": 41,
     "metadata": {},
     "output_type": "execute_result"
    }
   ],
   "source": [
    "l = np.zeros(4)\n",
    "for i,n in enumerate(TrainSamplesName):\n",
    "    l[i] = loss_sig[n].shape[1]\n",
    "    \n",
    "i_min = np.argmin(l/fraction)\n",
    "print 'Limiting stat. sample: {} ({:.2f}M)'.format(TrainSamplesName[i_min], l[i_min]*1e-6)\n",
    "\n",
    "weight = []\n",
    "for i,n in enumerate(TrainSamplesName):\n",
    "    w = np.float128(fraction[i]/ fraction[i_min]) * np.float128(l[i_min]/l[i])\n",
    "    weight.append(w)\n",
    "weight"
   ]
  },
  {
   "cell_type": "code",
   "execution_count": 42,
   "metadata": {
    "scrolled": false
   },
   "outputs": [
    {
     "name": "stdout",
     "output_type": "stream",
     "text": [
      "CumSum accuracy: 0.9999999999999530577\n"
     ]
    },
    {
     "data": {
      "image/png": "[encoded data removed]",
      "text/plain": [
       "<matplotlib.figure.Figure at 0x10f846650>"
      ]
     },
     "metadata": {},
     "output_type": "display_data"
    }
   ],
   "source": [
    "p_SM = np.logspace(base=10, start=-7, stop=0, num=100)\n",
    "p_SM[-1] = 0.999\n",
    "\n",
    "for ll in range(1):\n",
    "    f_ROC, ax_arr_ROC = plt.subplots(1,1, figsize=(10,10))\n",
    "    ax_arr_ROC.plot([0, 1], [0, 1], color='navy', lw=2, linestyle='--')\n",
    "    ax_arr_ROC.plot([eff_SMMix, eff_SMMix], [1e-6, 1.05], color='red', lw=2, linestyle='--', label='1000 SM evts/month')\n",
    "    ax_arr_ROC.set_xlim([1e-6, 1.0])\n",
    "    ax_arr_ROC.set_ylim([1e-6, 1.05])\n",
    "    ax_arr_ROC.set_xlabel('SM efficiency', fontdict={'size': 16})\n",
    "    ax_arr_ROC.ticklabel_format()\n",
    "    ax_arr_ROC.set_ylabel('BSM efficiency', fontdict={'size': 16})\n",
    "    ax_arr_ROC.set_title('ROC VAE ' + Ytitles[ll], fontdict={'size': 16})\n",
    "    ax_arr_ROC.set_yscale('log')\n",
    "    ax_arr_ROC.set_xscale('log')\n",
    "    ax_arr_ROC.grid()\n",
    "\n",
    "    t_SM = np.concatenate((loss_sig['Wlnu'][ll], \n",
    "                           loss_sig['qcd'][ll],\n",
    "                           loss_sig['Zll'][ll],\n",
    "                           loss_sig['ttbar'][ll]\n",
    "                          ))\n",
    "    \n",
    "    w_SM = np.concatenate((np.full_like(loss_sig['Wlnu'][ll], weight[0], np.float128),\n",
    "                           np.full_like(loss_sig['qcd'][ll], weight[1], np.float128),\n",
    "                           np.full_like(loss_sig['Zll'][ll], weight[2], np.float128),\n",
    "                           np.full_like(loss_sig['ttbar'][ll], weight[3], np.float128)\n",
    "                          ))\n",
    "    \n",
    "    i_sort = np.argsort(t_SM)\n",
    "    \n",
    "    t_SM = t_SM[i_sort]\n",
    "    w_SM = w_SM[i_sort]\n",
    "    \n",
    "    cum_sum = np.cumsum(w_SM, dtype=np.float128)/np.float128(l[i_min]/fraction[i_min])\n",
    "    print 'CumSum accuracy:', cum_sum[-1]\n",
    "    \n",
    "    idx_q = np.argmax(cum_sum>np.atleast_2d(1-p_SM).T, axis=1)\n",
    "    q_SM = t_SM[idx_q]\n",
    "    \n",
    "    for n in BSM_samples:\n",
    "        out = loss_sig[n][ll] > np.atleast_2d(q_SM).T\n",
    "        p_BSM = np.float64(np.sum(out, axis=1, dtype=np.float128)/loss_sig[n].shape[1])\n",
    "        \n",
    "        roc_auc = np.trapz(p_BSM, p_SM)\n",
    "        \n",
    "        dic2save = {'eff_BSM':p_BSM, 'eff_SM':p_SM, 'roc_auc':roc_auc}\n",
    "        fileout = open('VAE_all-in-one_v{}_ROC{}_dict_{}.pkl'.format(VAEversion, ll, n), 'w')\n",
    "        pickle.dump(file=fileout, obj=dic2save)\n",
    "        fileout.close()\n",
    "    \n",
    "        ax_arr_ROC.plot(p_SM, p_BSM, label='{} (area = {:0.2f})'.format(n, roc_auc))\n",
    "        \n",
    "    ax_arr_ROC.legend(loc=\"lower right\")\n",
    "    f_ROC.savefig('plots/ROC_VAE'+str(ll)+'.png')\n"
   ]
  },
  {
   "cell_type": "code",
   "execution_count": null,
   "metadata": {},
   "outputs": [],
   "source": []
  }
 ],
 "metadata": {
  "kernelspec": {
   "display_name": "Python 2",
   "language": "python",
   "name": "python2"
  },
  "language_info": {
   "codemirror_mode": {
    "name": "ipython",
    "version": 2
   },
   "file_extension": ".py",
   "mimetype": "text/x-python",
   "name": "python",
   "nbconvert_exporter": "python",
   "pygments_lexer": "ipython2",
   "version": "2.7.14"
  }
 },
 "nbformat": 4,
 "nbformat_minor": 2
}
