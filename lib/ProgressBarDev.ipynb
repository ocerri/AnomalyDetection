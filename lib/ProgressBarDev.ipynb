{
 "cells": [
  {
   "cell_type": "code",
   "execution_count": 8,
   "metadata": {
    "collapsed": true
   },
   "outputs": [],
   "source": [
    "import time\n",
    "import sys"
   ]
  },
  {
   "cell_type": "code",
   "execution_count": 61,
   "metadata": {
    "collapsed": false
   },
   "outputs": [
    {
     "data": {
      "text/plain": [
       "1479893516.07939"
      ]
     },
     "execution_count": 61,
     "metadata": {},
     "output_type": "execute_result"
    }
   ],
   "source": [
    "time.time()"
   ]
  },
  {
   "cell_type": "code",
   "execution_count": 12,
   "metadata": {
    "collapsed": false
   },
   "outputs": [
    {
     "name": "stdout",
     "output_type": "stream",
     "text": [
      "Loading...."
     ]
    }
   ],
   "source": [
    "for x in range (0,5):  \n",
    "    b = \"Loading\" + \".\" * x\n",
    "    if x>0: sys.stdout.write('\\r')\n",
    "    sys.stdout.write(b)\n",
    "    sys.stdout.flush()\n",
    "    time.sleep(1)"
   ]
  },
  {
   "cell_type": "code",
   "execution_count": 73,
   "metadata": {
    "collapsed": false
   },
   "outputs": [],
   "source": [
    "time_start_progress_bar = 0\n",
    "\n",
    "def ShowProgressBar(entry, MaxEntry,PercentagePrecision = 5):\n",
    "    NStep = int(100/PercentagePrecision)\n",
    "    StepSize = int(MaxEntry/NStep)\n",
    "    \n",
    "    if entry%StepSize==0:\n",
    "        if entry>0:\n",
    "            sys.stdout.write('\\r')\n",
    "        else:\n",
    "            global time_start_progress_bar\n",
    "            time_start_progress_bar = time.time()\n",
    "            \n",
    "        Progress = float(entry)/MaxEntry\n",
    "        #print Progress\n",
    "        NStepDone = int(Progress*NStep)\n",
    "        \n",
    "        OutLine = '['+'#'*NStepDone + '-'*(NStep-NStepDone) +']'+'  {0}%'.format(int(100*Progress))\n",
    "        sys.stdout.write(OutLine)\n",
    "        sys.stdout.flush()\n",
    "        \n",
    "        if entry>0:\n",
    "            timeleft = (MaxEntry - float(entry))*(time.time() - time_start_progress_bar)/float(entry)\n",
    "            if timeleft<181:\n",
    "                sys.stdout.write(\" - remaning:{:5.0f} s   \".format(timeleft))\n",
    "            elif timeleft<10801:\n",
    "                timeleft/=60\n",
    "                sys.stdout.write(\" - remaning:{:5.1f} min \".format(timeleft))\n",
    "            else:\n",
    "                timeleft/=3600\n",
    "                sys.stdout.write(\" - remaning:{:5.1f} h   \".format(timeleft))\n",
    "                \n",
    "            sys.stdout.flush()\n",
    "    \n",
    "    if entry==MaxEntry-1:\n",
    "        OutLine = '\\r['+ '#'*NStep +']  100%\\n'\n",
    "        sys.stdout.write(OutLine)\n",
    "        print \"Elapsed time {:.1f} sec (wall time)\".format(time.time() - time_start_progress_bar)\n",
    "            "
   ]
  },
  {
   "cell_type": "code",
   "execution_count": 76,
   "metadata": {
    "collapsed": false
   },
   "outputs": [
    {
     "name": "stdout",
     "output_type": "stream",
     "text": [
      "[####################]  100%\n",
      "Elapsed time 51.3 sec (wall time)\n",
      "Done!"
     ]
    }
   ],
   "source": [
    "def process(max=500):\n",
    "    for i in range (0,max):\n",
    "        ShowProgressBar(i,max)\n",
    "        time.sleep(.1)\n",
    "        \n",
    "process()\n",
    "sys.stdout.write(\"Done!\")"
   ]
  },
  {
   "cell_type": "code",
   "execution_count": null,
   "metadata": {
    "collapsed": true
   },
   "outputs": [],
   "source": []
  }
 ],
 "metadata": {
  "kernelspec": {
   "display_name": "Python 2",
   "language": "python",
   "name": "python2"
  },
  "language_info": {
   "codemirror_mode": {
    "name": "ipython",
    "version": 2
   },
   "file_extension": ".py",
   "mimetype": "text/x-python",
   "name": "python",
   "nbconvert_exporter": "python",
   "pygments_lexer": "ipython2",
   "version": "2.7.11"
  }
 },
 "nbformat": 4,
 "nbformat_minor": 0
}
