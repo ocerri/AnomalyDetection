{
 "cells": [
  {
   "cell_type": "code",
   "execution_count": 68,
   "metadata": {},
   "outputs": [],
   "source": [
    "import h5py\n",
    "from glob import glob\n",
    "import sys, scipy\n",
    "from scipy.stats import chi2\n",
    "\n",
    "import matplotlib.pyplot as plt\n",
    "import numpy as np"
   ]
  },
  {
   "cell_type": "code",
   "execution_count": 2,
   "metadata": {},
   "outputs": [
    {
     "name": "stderr",
     "output_type": "stream",
     "text": [
      "Using TensorFlow backend.\n"
     ]
    }
   ],
   "source": [
    "from keras.layers import Input, Dense, Lambda, Layer\n",
    "from keras.models import Model\n",
    "from keras import backend as K\n",
    "from keras import metrics\n",
    "from keras import optimizers\n",
    "from keras.callbacks import EarlyStopping, ReduceLROnPlateau"
   ]
  },
  {
   "cell_type": "code",
   "execution_count": 3,
   "metadata": {},
   "outputs": [],
   "source": [
    "pf_features = ['Energy', 'Px', 'Py', 'Pz', 'Pt', 'Eta', 'Phi', \n",
    "                'vtxX', 'vtxY', 'vtxZ','ChPFIso', 'GammaPFIso', 'NeuPFIso',\n",
    "                'isChHad', 'isNeuHad', 'isGamma', 'isEle',  'isMu', \n",
    "                #'Charge'\n",
    "               ]\n",
    "hlf_features = ['HT', 'MET', 'phiMET', 'MT', 'nJets', 'nBjets',\n",
    "                'LepPt', 'LepEta', 'LepPhi', 'LepIsoCh',\n",
    "                'LepIsoGamma', 'LepIsoNeu', 'LepCharge', 'LepIsEle'\n",
    "               ]"
   ]
  },
  {
   "cell_type": "markdown",
   "metadata": {},
   "source": [
    "# Start the VAE declaration"
   ]
  },
  {
   "cell_type": "code",
   "execution_count": 4,
   "metadata": {},
   "outputs": [],
   "source": [
    "batch_size = 100\n",
    "original_dim = len(hlf_features)\n",
    "latent_dim = 2\n",
    "intermediate_dim = 40\n",
    "epsilon_std = 1.0"
   ]
  },
  {
   "cell_type": "code",
   "execution_count": 5,
   "metadata": {},
   "outputs": [],
   "source": [
    "x = Input(shape=(original_dim,))\n",
    "h = Dense(intermediate_dim, activation='tanh')(x)\n",
    "z_mean = Dense(latent_dim)(h)\n",
    "z_log_var = Dense(latent_dim)(h)"
   ]
  },
  {
   "cell_type": "code",
   "execution_count": 6,
   "metadata": {},
   "outputs": [],
   "source": [
    "def sampling(args):\n",
    "    z_mean, z_log_var = args\n",
    "    epsilon = K.random_normal(shape=(K.shape(z_mean)[0], latent_dim), mean=0.,\n",
    "                              stddev=epsilon_std)\n",
    "    return z_mean + K.exp(z_log_var) * epsilon\n",
    "\n",
    "z = Lambda(sampling, output_shape=(latent_dim,))([z_mean, z_log_var])"
   ]
  },
  {
   "cell_type": "code",
   "execution_count": 7,
   "metadata": {},
   "outputs": [],
   "source": [
    "decoder_h = Dense(intermediate_dim, activation='tanh')\n",
    "decoder_mean = Dense(original_dim)\n",
    "decoder_log_var = Dense(original_dim)\n",
    "\n",
    "h_decoded = decoder_h(z)\n",
    "x_decoded_mean = decoder_mean(h_decoded)\n",
    "x_decoded_log_var = decoder_log_var(h_decoded)"
   ]
  },
  {
   "cell_type": "markdown",
   "metadata": {},
   "source": [
    "Custom loss layer"
   ]
  },
  {
   "cell_type": "code",
   "execution_count": 8,
   "metadata": {},
   "outputs": [],
   "source": [
    "class CustomVariationalLayer(Layer):\n",
    "    def __init__(self, **kwargs):\n",
    "        self.is_placeholder = True\n",
    "        super(CustomVariationalLayer, self).__init__(**kwargs)\n",
    "\n",
    "    def vae_loss(self, x, x_decoded_mean, x_decoded_log_var):\n",
    "        norm_x = K.tf.divide(x-x_decoded_mean, K.exp(x_decoded_log_var))\n",
    "        single_L = 2*x_decoded_log_var + 0.5*K.square(norm_x)\n",
    "        nll_loss = K.sum(single_L, axis=-1)\n",
    "        kl_loss = - 0.5 * K.sum(1 + z_log_var - K.square(z_mean) - K.exp(z_log_var), axis=-1)\n",
    "        return K.mean(nll_loss + kl_loss)\n",
    "\n",
    "    def call(self, inputs):\n",
    "        x = inputs[0]\n",
    "        x_decoded_mean = inputs[1]\n",
    "        x_decoded_log_var = inputs[2]\n",
    "        loss = self.vae_loss(x, x_decoded_mean, x_decoded_log_var)\n",
    "        self.add_loss(loss, inputs=inputs)\n",
    "        # We won't actually use the output.\n",
    "        return x\n",
    "    \n",
    "y = CustomVariationalLayer()([x, x_decoded_mean, x_decoded_log_var])"
   ]
  },
  {
   "cell_type": "code",
   "execution_count": 9,
   "metadata": {},
   "outputs": [
    {
     "name": "stderr",
     "output_type": "stream",
     "text": [
      "/opt/local/Library/Frameworks/Python.framework/Versions/2.7/lib/python2.7/site-packages/ipykernel_launcher.py:2: UserWarning: Output \"custom_variational_layer_1\" missing from loss dictionary. We assume this was done on purpose, and we will not be expecting any data to be passed to \"custom_variational_layer_1\" during training.\n",
      "  \n"
     ]
    }
   ],
   "source": [
    "vae = Model(x, y)\n",
    "vae.compile(optimizer='adam', loss=None)"
   ]
  },
  {
   "cell_type": "markdown",
   "metadata": {},
   "source": [
    "# Training"
   ]
  },
  {
   "cell_type": "code",
   "execution_count": 10,
   "metadata": {},
   "outputs": [
    {
     "name": "stdout",
     "output_type": "stream",
     "text": [
      "Train data shape:  (35000, 14)\n",
      "Val data shape:  (52500, 14)\n"
     ]
    }
   ],
   "source": [
    "data_folder = 'data/MaxLepDeltaR_des/'\n",
    "\n",
    "train_list = glob(data_folder +'train/*.h5')\n",
    "hlf_train = np.zeros((0,14))\n",
    "label_train = np.zeros((0,))\n",
    "for fname in train_list:\n",
    "    f = h5py.File(fname)\n",
    "    hlf_train = np.concatenate((hlf_train, np.array(f['HLF'])))\n",
    "    label_train = np.concatenate((label_train, np.array(f['Labels'])[:,1] + 2*np.array(f['Labels'])[:,2]))\n",
    "\n",
    "cut = label_train==0\n",
    "x_train = hlf_train[cut]\n",
    "l_train = label_train[cut]\n",
    "print 'Train data shape: ', x_train.shape\n",
    "\n",
    "\n",
    "\n",
    "val_list = glob(data_folder +'val/*.h5')\n",
    "hlf_val = np.zeros((0,14))\n",
    "label_val = np.zeros((0,))\n",
    "for fname in val_list:\n",
    "    f = h5py.File(fname)\n",
    "    hlf_val = np.concatenate((hlf_val, np.array(f['HLF'])))\n",
    "    label_val = np.concatenate((label_val, np.array(f['Labels'])[:,1] + 2*np.array(f['Labels'])[:,2]))\n",
    "\n",
    "x_test = hlf_val #[f_val['Labels'][:,0]==1,:]\n",
    "print 'Val data shape: ', x_test.shape\n",
    "\n",
    "# print f_train.keys()"
   ]
  },
  {
   "cell_type": "code",
   "execution_count": 11,
   "metadata": {},
   "outputs": [
    {
     "name": "stdout",
     "output_type": "stream",
     "text": [
      "Train on 35000 samples, validate on 52500 samples\n",
      "Epoch 1/200\n",
      "35000/35000 [==============================] - 1s 26us/step - loss: 7756130.8777 - val_loss: 1751730.0320\n",
      "Epoch 2/200\n",
      "35000/35000 [==============================] - 1s 16us/step - loss: 209995.8006 - val_loss: 404993.4059\n",
      "Epoch 3/200\n",
      "35000/35000 [==============================] - 1s 16us/step - loss: 68039.5399 - val_loss: 239144.4576\n",
      "Epoch 4/200\n",
      "35000/35000 [==============================] - 1s 16us/step - loss: 41930.6981 - val_loss: 154839.8469\n",
      "Epoch 5/200\n",
      "35000/35000 [==============================] - 1s 16us/step - loss: 28364.2964 - val_loss: 107621.0806\n",
      "Epoch 6/200\n",
      "35000/35000 [==============================] - 1s 16us/step - loss: 20041.8799 - val_loss: 77987.9429\n",
      "Epoch 7/200\n",
      "35000/35000 [==============================] - 1s 16us/step - loss: 14489.0724 - val_loss: 57776.2698\n",
      "Epoch 8/200\n",
      "35000/35000 [==============================] - 1s 16us/step - loss: 11052.7850 - val_loss: 44098.3907\n",
      "Epoch 9/200\n",
      "35000/35000 [==============================] - 1s 16us/step - loss: 8606.3921 - val_loss: 34539.2611\n",
      "Epoch 10/200\n",
      "35000/35000 [==============================] - 1s 16us/step - loss: 6760.0794 - val_loss: 26793.9322\n",
      "Epoch 11/200\n",
      "35000/35000 [==============================] - 1s 17us/step - loss: 5277.0619 - val_loss: 21891.4086\n",
      "Epoch 12/200\n",
      "35000/35000 [==============================] - 1s 17us/step - loss: 4262.3837 - val_loss: 17209.6302\n",
      "Epoch 13/200\n",
      "35000/35000 [==============================] - 1s 16us/step - loss: 3439.9293 - val_loss: 14233.1832\n",
      "Epoch 14/200\n",
      "35000/35000 [==============================] - 1s 17us/step - loss: 2813.6060 - val_loss: 11857.7574\n",
      "Epoch 15/200\n",
      "35000/35000 [==============================] - 1s 17us/step - loss: 2281.0331 - val_loss: 9705.3337\n",
      "Epoch 16/200\n",
      "35000/35000 [==============================] - 1s 16us/step - loss: 1901.2074 - val_loss: 7728.0627\n",
      "Epoch 17/200\n",
      "35000/35000 [==============================] - 1s 17us/step - loss: 1552.0666 - val_loss: 6413.8671\n",
      "Epoch 18/200\n",
      "35000/35000 [==============================] - 1s 17us/step - loss: 1304.2866 - val_loss: 5387.1549\n",
      "Epoch 19/200\n",
      "35000/35000 [==============================] - 1s 17us/step - loss: 1088.8293 - val_loss: 4543.6060\n",
      "Epoch 20/200\n",
      "35000/35000 [==============================] - 1s 16us/step - loss: 895.0475 - val_loss: 3755.0130\n",
      "Epoch 21/200\n",
      "35000/35000 [==============================] - 1s 16us/step - loss: 752.2276 - val_loss: 3072.9772\n",
      "Epoch 22/200\n",
      "35000/35000 [==============================] - 1s 17us/step - loss: 633.7665 - val_loss: 2571.6435\n",
      "Epoch 23/200\n",
      "35000/35000 [==============================] - 1s 16us/step - loss: 529.7692 - val_loss: 2173.3759\n",
      "Epoch 24/200\n",
      "35000/35000 [==============================] - 1s 16us/step - loss: 453.5794 - val_loss: 1797.7203\n",
      "Epoch 25/200\n",
      "35000/35000 [==============================] - 1s 16us/step - loss: 384.1389 - val_loss: 1582.8396\n",
      "Epoch 26/200\n",
      "35000/35000 [==============================] - 1s 17us/step - loss: 325.3194 - val_loss: 1295.9662\n",
      "Epoch 27/200\n",
      "35000/35000 [==============================] - 1s 17us/step - loss: 279.3145 - val_loss: 1097.0406\n",
      "Epoch 28/200\n",
      "35000/35000 [==============================] - 1s 17us/step - loss: 233.7977 - val_loss: 837.5528\n",
      "Epoch 29/200\n",
      "35000/35000 [==============================] - 1s 18us/step - loss: 188.0275 - val_loss: 717.8348\n",
      "Epoch 30/200\n",
      "35000/35000 [==============================] - 1s 17us/step - loss: 164.4464 - val_loss: 618.7445\n",
      "Epoch 31/200\n",
      "35000/35000 [==============================] - 1s 17us/step - loss: 144.8900 - val_loss: 541.5193\n",
      "Epoch 32/200\n",
      "35000/35000 [==============================] - 1s 17us/step - loss: 127.3912 - val_loss: 464.0875\n",
      "Epoch 33/200\n",
      "35000/35000 [==============================] - 1s 17us/step - loss: 112.5451 - val_loss: 403.2194\n",
      "Epoch 34/200\n",
      "35000/35000 [==============================] - 1s 17us/step - loss: 99.6270 - val_loss: 349.6894\n",
      "Epoch 35/200\n",
      "35000/35000 [==============================] - 1s 17us/step - loss: 89.3421 - val_loss: 304.2684\n",
      "Epoch 36/200\n",
      "35000/35000 [==============================] - 1s 18us/step - loss: 79.9738 - val_loss: 265.5073\n",
      "Epoch 37/200\n",
      "35000/35000 [==============================] - 1s 16us/step - loss: 71.9605 - val_loss: 232.5031\n",
      "Epoch 38/200\n",
      "35000/35000 [==============================] - 1s 17us/step - loss: 65.4175 - val_loss: 202.9113\n",
      "Epoch 39/200\n",
      "35000/35000 [==============================] - 1s 17us/step - loss: 63.0933 - val_loss: 197.6275\n",
      "Epoch 40/200\n",
      "35000/35000 [==============================] - 1s 16us/step - loss: 56.2230 - val_loss: 138.2158\n",
      "Epoch 41/200\n",
      "35000/35000 [==============================] - 1s 17us/step - loss: 49.4187 - val_loss: 156.9511\n",
      "Epoch 42/200\n",
      "35000/35000 [==============================] - 1s 17us/step - loss: 47.9544 - val_loss: 128.3624\n",
      "Epoch 43/200\n",
      "35000/35000 [==============================] - 1s 18us/step - loss: 44.8426 - val_loss: 115.1935\n",
      "Epoch 44/200\n",
      "35000/35000 [==============================] - 1s 18us/step - loss: 41.5475 - val_loss: 106.8148\n",
      "Epoch 45/200\n",
      "35000/35000 [==============================] - 1s 17us/step - loss: 38.7165 - val_loss: 97.3748\n",
      "Epoch 46/200\n",
      "35000/35000 [==============================] - 1s 17us/step - loss: 36.0712 - val_loss: 92.2782\n",
      "Epoch 47/200\n",
      "35000/35000 [==============================] - 1s 17us/step - loss: 34.9808 - val_loss: 78.6471\n",
      "Epoch 48/200\n",
      "35000/35000 [==============================] - 1s 17us/step - loss: 32.7211 - val_loss: 82.5592\n",
      "Epoch 49/200\n",
      "35000/35000 [==============================] - 1s 17us/step - loss: 29.8173 - val_loss: 80.5143\n",
      "Epoch 50/200\n",
      "35000/35000 [==============================] - 1s 17us/step - loss: 29.8960 - val_loss: 73.2978\n",
      "Epoch 51/200\n",
      "35000/35000 [==============================] - 1s 17us/step - loss: 27.6112 - val_loss: 66.2670\n",
      "Epoch 52/200\n",
      "35000/35000 [==============================] - 1s 16us/step - loss: 26.7095 - val_loss: 59.9728\n",
      "Epoch 53/200\n",
      "35000/35000 [==============================] - 1s 17us/step - loss: 26.7664 - val_loss: 62.9590\n",
      "Epoch 54/200\n",
      "35000/35000 [==============================] - 1s 17us/step - loss: 26.0343 - val_loss: 57.9849\n",
      "Epoch 55/200\n",
      "35000/35000 [==============================] - 1s 17us/step - loss: 25.8546 - val_loss: 55.0264\n",
      "Epoch 56/200\n",
      "35000/35000 [==============================] - 1s 17us/step - loss: 23.1487 - val_loss: 50.3125\n",
      "Epoch 57/200\n",
      "35000/35000 [==============================] - 1s 17us/step - loss: 25.7301 - val_loss: 47.0239\n",
      "Epoch 58/200\n",
      "35000/35000 [==============================] - 1s 17us/step - loss: 23.2528 - val_loss: 59.8301\n",
      "Epoch 59/200\n",
      "35000/35000 [==============================] - 1s 17us/step - loss: 20.7978 - val_loss: 48.1973\n",
      "Epoch 60/200\n",
      "35000/35000 [==============================] - 1s 16us/step - loss: 20.1251 - val_loss: 42.0842\n",
      "Epoch 61/200\n",
      "35000/35000 [==============================] - 1s 18us/step - loss: 19.1330 - val_loss: 42.3403\n",
      "Epoch 62/200\n",
      "35000/35000 [==============================] - 1s 17us/step - loss: 16.4306 - val_loss: 37.0408\n",
      "Epoch 63/200\n",
      "35000/35000 [==============================] - 1s 17us/step - loss: 14.6229 - val_loss: 39.7717\n",
      "Epoch 64/200\n",
      "35000/35000 [==============================] - 1s 17us/step - loss: 13.1106 - val_loss: 42.9348\n",
      "Epoch 65/200\n",
      "35000/35000 [==============================] - 1s 17us/step - loss: 24.7555 - val_loss: 40.2276\n",
      "Epoch 66/200\n",
      "35000/35000 [==============================] - 1s 17us/step - loss: 19.2460 - val_loss: 36.7259\n",
      "Epoch 67/200\n",
      "35000/35000 [==============================] - 1s 16us/step - loss: 20.2998 - val_loss: 43.3771\n",
      "Epoch 68/200\n",
      "35000/35000 [==============================] - 1s 17us/step - loss: 19.9929 - val_loss: 39.4863\n",
      "Epoch 69/200\n",
      "35000/35000 [==============================] - 1s 17us/step - loss: 16.0377 - val_loss: 38.0906\n",
      "Epoch 70/200\n",
      "32200/35000 [==========================>...] - ETA: 0s - loss: 20.9337\n",
      "Epoch 00070: reducing learning rate to 0.000300000014249.\n",
      "35000/35000 [==============================] - 1s 17us/step - loss: 21.8994 - val_loss: 42.8940\n",
      "Epoch 71/200\n",
      "35000/35000 [==============================] - 1s 17us/step - loss: 25.9200 - val_loss: 39.9533\n",
      "Epoch 72/200\n",
      "35000/35000 [==============================] - 1s 17us/step - loss: 22.7391 - val_loss: 40.0761\n",
      "Epoch 73/200\n"
     ]
    },
    {
     "name": "stdout",
     "output_type": "stream",
     "text": [
      "35000/35000 [==============================] - 1s 16us/step - loss: 21.5652 - val_loss: 37.7907\n",
      "Epoch 74/200\n",
      "35000/35000 [==============================] - 1s 16us/step - loss: 20.9486 - val_loss: 40.3702\n",
      "Epoch 75/200\n",
      "34300/35000 [============================>.] - ETA: 0s - loss: 20.7056\n",
      "Epoch 00075: reducing learning rate to 9.00000042748e-05.\n",
      "35000/35000 [==============================] - 1s 16us/step - loss: 20.6759 - val_loss: 40.3010\n",
      "Epoch 76/200\n",
      "35000/35000 [==============================] - 1s 16us/step - loss: 19.4211 - val_loss: 36.6413\n",
      "Epoch 77/200\n",
      "35000/35000 [==============================] - 1s 16us/step - loss: 16.8271 - val_loss: 35.1907\n",
      "Epoch 78/200\n",
      "35000/35000 [==============================] - 1s 16us/step - loss: 16.9898 - val_loss: 35.4554\n",
      "Epoch 79/200\n",
      "35000/35000 [==============================] - 1s 16us/step - loss: 15.8422 - val_loss: 34.3052\n",
      "Epoch 80/200\n",
      "34000/35000 [============================>.] - ETA: 0s - loss: 15.2580\n",
      "Epoch 00080: reducing learning rate to 2.70000004093e-05.\n",
      "35000/35000 [==============================] - 1s 17us/step - loss: 15.2258 - val_loss: 32.9852\n",
      "Epoch 81/200\n",
      "35000/35000 [==============================] - 1s 16us/step - loss: 13.9748 - val_loss: 32.5980\n",
      "Epoch 82/200\n",
      "35000/35000 [==============================] - 1s 16us/step - loss: 13.7176 - val_loss: 32.3523\n",
      "Epoch 83/200\n",
      "35000/35000 [==============================] - 1s 16us/step - loss: 13.4230 - val_loss: 32.4686\n",
      "Epoch 84/200\n",
      "35000/35000 [==============================] - 1s 16us/step - loss: 13.1697 - val_loss: 30.7179\n",
      "Epoch 85/200\n",
      "35000/35000 [==============================] - 1s 16us/step - loss: 12.8017 - val_loss: 32.0070\n",
      "Epoch 86/200\n",
      "35000/35000 [==============================] - 1s 16us/step - loss: 12.4292 - val_loss: 32.0155\n",
      "Epoch 87/200\n",
      "35000/35000 [==============================] - 1s 17us/step - loss: 12.0262 - val_loss: 32.4600\n",
      "Epoch 88/200\n",
      "35000/35000 [==============================] - 1s 16us/step - loss: 11.8275 - val_loss: 32.2373\n",
      "Epoch 89/200\n",
      "35000/35000 [==============================] - 1s 17us/step - loss: 11.4205 - val_loss: 32.9725\n",
      "Epoch 90/200\n",
      "35000/35000 [==============================] - 1s 17us/step - loss: 11.0194 - val_loss: 31.7888\n",
      "Epoch 91/200\n",
      "35000/35000 [==============================] - 1s 17us/step - loss: 10.5438 - val_loss: 31.2418\n",
      "Epoch 92/200\n",
      "35000/35000 [==============================] - 1s 17us/step - loss: 10.0211 - val_loss: 32.7166\n",
      "Epoch 93/200\n",
      "35000/35000 [==============================] - 1s 17us/step - loss: 9.6302 - val_loss: 32.9513\n",
      "Epoch 94/200\n",
      "35000/35000 [==============================] - 1s 17us/step - loss: 10.0773 - val_loss: 33.2395\n",
      "Epoch 00094: early stopping\n"
     ]
    }
   ],
   "source": [
    "fit_report = vae.fit(x_train,\n",
    "        shuffle=True,\n",
    "        epochs=200,\n",
    "        batch_size=batch_size,\n",
    "        validation_data=(x_test, None),\n",
    "        callbacks = [\n",
    "            EarlyStopping(monitor='val_loss', patience=10, verbose=1),\n",
    "            ReduceLROnPlateau(monitor='loss', factor=0.3, patience=5, verbose=1)\n",
    "            ])"
   ]
  },
  {
   "cell_type": "code",
   "execution_count": 16,
   "metadata": {},
   "outputs": [
    {
     "data": {
      "text/plain": [
       "<matplotlib.legend.Legend at 0x119869b50>"
      ]
     },
     "execution_count": 16,
     "metadata": {},
     "output_type": "execute_result"
    },
    {
     "data": {
      "image/png": "[encoded data removed]",
      "text/plain": [
       "<matplotlib.figure.Figure at 0x119ba1050>"
      ]
     },
     "metadata": {},
     "output_type": "display_data"
    }
   ],
   "source": [
    "for item in ['loss', 'val_loss']:\n",
    "    plt.semilogy(fit_report.history[item][10:], label=item)\n",
    "plt.xlabel('Epoch')\n",
    "plt.grid()\n",
    "plt.legend(loc='best')"
   ]
  },
  {
   "cell_type": "markdown",
   "metadata": {},
   "source": [
    "# Build encoder and decoder"
   ]
  },
  {
   "cell_type": "markdown",
   "metadata": {},
   "source": [
    "### Encoder"
   ]
  },
  {
   "cell_type": "code",
   "execution_count": 13,
   "metadata": {},
   "outputs": [],
   "source": [
    "encoder = Model(inputs=x, outputs=[z_mean, z_log_var])"
   ]
  },
  {
   "cell_type": "code",
   "execution_count": 22,
   "metadata": {},
   "outputs": [
    {
     "data": {
      "image/png": "[encoded data removed]",
      "text/plain": [
       "<matplotlib.figure.Figure at 0x11989ad10>"
      ]
     },
     "metadata": {},
     "output_type": "display_data"
    }
   ],
   "source": [
    "x_train_encoded = np.array(encoder.predict(x_train, batch_size=batch_size))\n",
    "x_train_encoded.shape\n",
    "plt.figure()\n",
    "plt.scatter(x_train_encoded[0, :, 0], x_train_encoded[0, :, 1], c=l_train)\n",
    "plt.show()"
   ]
  },
  {
   "cell_type": "code",
   "execution_count": 21,
   "metadata": {},
   "outputs": [
    {
     "data": {
      "image/png": "[encoded data removed]",
      "text/plain": [
       "<matplotlib.figure.Figure at 0x119890cd0>"
      ]
     },
     "metadata": {},
     "output_type": "display_data"
    }
   ],
   "source": [
    "x_test_encoded = np.array(encoder.predict(x_test, batch_size=batch_size))\n",
    "x_test_encoded.shape\n",
    "plt.figure()\n",
    "plt.scatter(x_test_encoded[0, :, 0], x_test_encoded[0, :, 1], c=label_val)\n",
    "plt.colorbar()\n",
    "plt.show()"
   ]
  },
  {
   "cell_type": "markdown",
   "metadata": {},
   "source": [
    "### Probabilistic Decoder"
   ]
  },
  {
   "cell_type": "code",
   "execution_count": 27,
   "metadata": {},
   "outputs": [],
   "source": [
    "sqrt_2pi = np.sqrt(2*np.pi)\n",
    "class GaussProbabilityComputerLayer(Layer):\n",
    "    def __init__(self, **kwargs):\n",
    "        self.is_placeholder = True\n",
    "        super(GaussProbabilityComputerLayer, self).__init__(**kwargs)\n",
    "\n",
    "    def call(self, inputs):\n",
    "        x = inputs[0]\n",
    "        x_decoded_mean = inputs[1]\n",
    "        x_decoded_log_var = inputs[2]\n",
    "        norm_x = K.tf.divide(x-x_decoded_mean, K.exp(x_decoded_log_var))\n",
    "        exp_part = K.exp(-0.5*K.square(norm_x))\n",
    "        prob = K.tf.divide(exp_part,K.exp(x_decoded_log_var))/sqrt_2pi\n",
    "        return prob"
   ]
  },
  {
   "cell_type": "code",
   "execution_count": 29,
   "metadata": {},
   "outputs": [],
   "source": [
    "decoder_input = Input(shape=(latent_dim,))\n",
    "_h_decoded = decoder_h(decoder_input)\n",
    "_x_decoded_mean = decoder_mean(_h_decoded)\n",
    "_x_decoded_log_var = decoder_log_var(_h_decoded)\n",
    "decoder = Model(decoder_input, [_x_decoded_mean, _x_decoded_log_var])"
   ]
  },
  {
   "cell_type": "code",
   "execution_count": 56,
   "metadata": {},
   "outputs": [],
   "source": [
    "def Gaussian_np(x, mu=0, sigma=1):\n",
    "    z = (x-mu)/sigma\n",
    "    return np.exp(-0.5*np.square(z))/(sigma*np.sqrt(2*np.pi))"
   ]
  },
  {
   "cell_type": "code",
   "execution_count": 58,
   "metadata": {},
   "outputs": [
    {
     "data": {
      "text/plain": [
       "0.39893904775856315"
      ]
     },
     "execution_count": 58,
     "metadata": {},
     "output_type": "execute_result"
    }
   ],
   "source": [
    "np.max(np.abs(Gaussian_np(np.random.uniform(size=(400)))))"
   ]
  },
  {
   "cell_type": "code",
   "execution_count": 71,
   "metadata": {},
   "outputs": [
    {
     "name": "stdout",
     "output_type": "stream",
     "text": [
      "aux: [[ 0.00000000e+00  1.93795452e+01 -1.16373146e+00  1.65733580e+03\n",
      "   0.00000000e+00  0.00000000e+00  2.57447433e+01 -2.12496355e-01\n",
      "  -6.07123613e-01  2.22044605e-16  4.33605668e-02  0.00000000e+00\n",
      "  -1.00000000e+00  0.00000000e+00]]\n",
      "Latent Space\n",
      "[[-2.1955109  -0.58024794]]\n",
      "[[0.06502803 0.02635553]]\n",
      "[[-2.26570881 -0.55933519]]\n",
      "Predicted x\n",
      "[[-2.9409014e-02  2.2997318e+01  3.2851283e-02  2.3704090e+01\n",
      "   7.8245997e-05  4.6260655e-05  2.9189997e+01 -9.7787231e-03\n",
      "  -2.1706618e-02  7.4322119e-02  2.8890066e-02  2.1868138e-02\n",
      "  -2.6230067e-03  4.9880615e-01]]\n",
      "[[8.9601405e-02 9.7894735e+00 1.2281841e+00 2.4377261e+03 1.5910338e-03\n",
      "  4.2476674e-04 2.8493373e+00 1.1609120e+00 1.3674868e+00 3.9427701e-02\n",
      "  2.9582687e-02 2.6720863e-02 7.0769548e-01 3.5405013e-01]]\n",
      "[[ 0.32822045 -0.36955747 -0.97426985  0.67014573 -0.04917934 -0.10890837\n",
      "  -1.20914197 -0.17461929 -0.42809699 -1.88502288  0.48915438 -0.8183919\n",
      "  -1.40933073 -1.40885741]]\n",
      "pvalues [[0.74722574 0.71802671 0.41186898 0.53561989 0.96079217 0.91344603\n",
      "  0.35460147 0.86207721 0.67819541 0.29832378 0.63872681 0.46763116\n",
      "  0.32559768 0.32564953]]\n",
      "Event combined p-value: 0.999858049315975\n"
     ]
    }
   ],
   "source": [
    "x_aux = x_train[:1,:]\n",
    "print 'aux:', aux\n",
    "pred = encoder.predict(aux)\n",
    "print 'Latent Space'\n",
    "print pred[0]\n",
    "print np.exp(pred[1])\n",
    "\n",
    "z_aux = np.random.normal(loc=pred[0], scale=np.exp(pred[1]))\n",
    "print z_aux\n",
    "\n",
    "print 'Predicted x'\n",
    "pred_x = decoder.predict(z)\n",
    "mu = pred_x[0]\n",
    "sigma = np.exp(pred_x[1])\n",
    "print mu\n",
    "print sigma\n",
    "x_norm = (x_aux-mu)/sigma\n",
    "print x_norm\n",
    "pvalue = 1-np.abs(scipy.special.erf(x_norm))/np.sqrt(2)\n",
    "print 'pvalues', pvalue\n",
    "\n",
    "comb_pvalue = 1-chi2.cdf(-np.sum(np.log(pvalue)), 2*pvalue.shape[1])\n",
    "print 'Event combined p-value:', comb_pvalue"
   ]
  },
  {
   "cell_type": "code",
   "execution_count": 72,
   "metadata": {},
   "outputs": [],
   "source": [
    "comb_pvalue = []\n",
    "for x_aux in x_train:\n",
    "    pred = encoder.predict(aux)\n",
    "    z_aux = np.random.normal(loc=pred[0], scale=np.exp(pred[1]))\n",
    "    pred_x = decoder.predict(z)\n",
    "    mu = pred_x[0]\n",
    "    sigma = np.exp(pred_x[1])\n",
    "    x_norm = (x_aux-mu)/sigma\n",
    "    pvalue = 1-np.abs(scipy.special.erf(x_norm))/np.sqrt(2)\n",
    "    comb_pvalue.append(1-chi2.cdf(-np.sum(np.log(pvalue)), 2*pvalue.shape[1]))"
   ]
  },
  {
   "cell_type": "code",
   "execution_count": 77,
   "metadata": {},
   "outputs": [
    {
     "data": {
      "image/png": "[encoded data removed]",
      "text/plain": [
       "<matplotlib.figure.Figure at 0x11b628990>"
      ]
     },
     "metadata": {},
     "output_type": "display_data"
    }
   ],
   "source": [
    "plt.hist(comb_pvalue, bins=20)\n",
    "plt.yscale('log', nonposy='clip')"
   ]
  },
  {
   "cell_type": "code",
   "execution_count": null,
   "metadata": {},
   "outputs": [],
   "source": [
    "_gaus_prob = GaussProbabilityComputerLayer()([x, _x_decoded_mean, _x_decoded_log_var])"
   ]
  }
 ],
 "metadata": {
  "kernelspec": {
   "display_name": "Python 2",
   "language": "python",
   "name": "python2"
  },
  "language_info": {
   "codemirror_mode": {
    "name": "ipython",
    "version": 2
   },
   "file_extension": ".py",
   "mimetype": "text/x-python",
   "name": "python",
   "nbconvert_exporter": "python",
   "pygments_lexer": "ipython2",
   "version": "2.7.14"
  }
 },
 "nbformat": 4,
 "nbformat_minor": 2
}
