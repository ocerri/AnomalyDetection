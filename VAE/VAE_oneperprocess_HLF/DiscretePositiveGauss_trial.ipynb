{
 "cells": [
  {
   "cell_type": "code",
   "execution_count": 1,
   "metadata": {},
   "outputs": [],
   "source": [
    "import numpy as np\n",
    "from scipy.special import erf\n",
    "import matplotlib.pyplot as plt"
   ]
  },
  {
   "cell_type": "code",
   "execution_count": 4,
   "metadata": {},
   "outputs": [
    {
     "data": {
      "text/plain": [
       "array([1, 3])"
      ]
     },
     "execution_count": 4,
     "metadata": {},
     "output_type": "execute_result"
    }
   ],
   "source": [
    "np.le"
   ]
  },
  {
   "cell_type": "code",
   "execution_count": 3,
   "metadata": {},
   "outputs": [],
   "source": [
    "def GausCDF(x, mu, sigma):\n",
    "    z = (x - mu)/sigma\n",
    "    return 0.5*(1 + erf(z/np.sqrt(2)))\n",
    "\n",
    "def GausIntegral(x1, x2, mu, sigma):\n",
    "    return GausCDF(x2, mu, sigma) - GausCDF(x1, mu, sigma)"
   ]
  },
  {
   "cell_type": "code",
   "execution_count": 33,
   "metadata": {},
   "outputs": [],
   "source": [
    "def DGauss(n, mu, sigma):\n",
    "    return GausIntegral(n-0.5, n+0.5, mu, sigma)\n",
    "\n",
    "def DGauss2(n, mu, sigma):\n",
    "    zp = (n + 0.5 - mu)/sigma\n",
    "    zm = (n - 0.5 - mu)/sigma\n",
    "    return 0.5*(erf(zp/np.sqrt(2)) - erf(zm/np.sqrt(2)))"
   ]
  },
  {
   "cell_type": "code",
   "execution_count": 22,
   "metadata": {},
   "outputs": [
    {
     "name": "stdout",
     "output_type": "stream",
     "text": [
      "1.0\n"
     ]
    },
    {
     "data": {
      "image/png": "[encoded data removed]",
      "text/plain": [
       "<Figure size 432x288 with 1 Axes>"
      ]
     },
     "metadata": {},
     "output_type": "display_data"
    }
   ],
   "source": [
    "mu = 1.3\n",
    "sigma = 0.2\n",
    "n = np.arange(-1, 4)\n",
    "plt.errorbar(n, DGauss(n, mu, sigma), fmt='o', xerr=0.5)\n",
    "print np.sum(DGauss(n, mu, sigma))"
   ]
  },
  {
   "cell_type": "code",
   "execution_count": 26,
   "metadata": {},
   "outputs": [],
   "source": [
    "def PDGauss(n, mu, sigma):\n",
    "    aN = 1 + GausCDF(-0.5, mu, sigma)\n",
    "    return aN * DGauss(n, mu, sigma)"
   ]
  },
  {
   "cell_type": "code",
   "execution_count": 34,
   "metadata": {},
   "outputs": [
    {
     "name": "stdout",
     "output_type": "stream",
     "text": [
      "[ 0.00000000e+00 -1.11022302e-16  5.55111512e-17 -5.55111512e-17\n",
      "  0.00000000e+00  5.55111512e-17  0.00000000e+00]\n",
      "0.9999999746844564\n"
     ]
    },
    {
     "data": {
      "image/png": "[encoded data removed]",
      "text/plain": [
       "<Figure size 432x288 with 1 Axes>"
      ]
     },
     "metadata": {},
     "output_type": "display_data"
    }
   ],
   "source": [
    "mu = 1.3\n",
    "sigma = 0.5\n",
    "n = np.arange(0, 7)\n",
    "print DGauss(n, mu, sigma) - DGauss2(n, mu, sigma)\n",
    "plt.errorbar(n, PDGauss(n, mu, sigma), fmt='o', xerr=0.5)\n",
    "print np.sum(PDGauss(n, mu, sigma))"
   ]
  },
  {
   "cell_type": "code",
   "execution_count": 32,
   "metadata": {},
   "outputs": [
    {
     "data": {
      "text/plain": [
       "-138.15510557964274"
      ]
     },
     "execution_count": 32,
     "metadata": {},
     "output_type": "execute_result"
    }
   ],
   "source": [
    "np.log(1e-60)"
   ]
  },
  {
   "cell_type": "code",
   "execution_count": null,
   "metadata": {},
   "outputs": [],
   "source": []
  }
 ],
 "metadata": {
  "kernelspec": {
   "display_name": "Python 2",
   "language": "python",
   "name": "python2"
  },
  "language_info": {
   "codemirror_mode": {
    "name": "ipython",
    "version": 2
   },
   "file_extension": ".py",
   "mimetype": "text/x-python",
   "name": "python",
   "nbconvert_exporter": "python",
   "pygments_lexer": "ipython2",
   "version": "2.7.14"
  }
 },
 "nbformat": 4,
 "nbformat_minor": 2
}
